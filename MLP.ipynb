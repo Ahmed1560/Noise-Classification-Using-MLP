{
 "cells": [
  {
   "cell_type": "code",
   "execution_count": 1,
   "metadata": {
    "colab": {
     "base_uri": "https://localhost:8080/"
    },
    "id": "UqJ_AXUmc2xZ",
    "outputId": "f875fece-e2ee-4fa4-be6d-eb74364e600f",
    "scrolled": true
   },
   "outputs": [],
   "source": [
    "#from google.colab import drive \n",
    "#drive.mount('/content/gdrive')"
   ]
  },
  {
   "cell_type": "code",
   "execution_count": 2,
   "metadata": {
    "id": "1fdvk13A9LQa"
   },
   "outputs": [
    {
     "name": "stderr",
     "output_type": "stream",
     "text": [
      "C:\\Users\\arabtech\\Anaconda3\\lib\\site-packages\\tensorflow\\python\\framework\\dtypes.py:516: FutureWarning: Passing (type, 1) or '1type' as a synonym of type is deprecated; in a future version of numpy, it will be understood as (type, (1,)) / '(1,)type'.\n",
      "  _np_qint8 = np.dtype([(\"qint8\", np.int8, 1)])\n",
      "C:\\Users\\arabtech\\Anaconda3\\lib\\site-packages\\tensorflow\\python\\framework\\dtypes.py:517: FutureWarning: Passing (type, 1) or '1type' as a synonym of type is deprecated; in a future version of numpy, it will be understood as (type, (1,)) / '(1,)type'.\n",
      "  _np_quint8 = np.dtype([(\"quint8\", np.uint8, 1)])\n",
      "C:\\Users\\arabtech\\Anaconda3\\lib\\site-packages\\tensorflow\\python\\framework\\dtypes.py:518: FutureWarning: Passing (type, 1) or '1type' as a synonym of type is deprecated; in a future version of numpy, it will be understood as (type, (1,)) / '(1,)type'.\n",
      "  _np_qint16 = np.dtype([(\"qint16\", np.int16, 1)])\n",
      "C:\\Users\\arabtech\\Anaconda3\\lib\\site-packages\\tensorflow\\python\\framework\\dtypes.py:519: FutureWarning: Passing (type, 1) or '1type' as a synonym of type is deprecated; in a future version of numpy, it will be understood as (type, (1,)) / '(1,)type'.\n",
      "  _np_quint16 = np.dtype([(\"quint16\", np.uint16, 1)])\n",
      "C:\\Users\\arabtech\\Anaconda3\\lib\\site-packages\\tensorflow\\python\\framework\\dtypes.py:520: FutureWarning: Passing (type, 1) or '1type' as a synonym of type is deprecated; in a future version of numpy, it will be understood as (type, (1,)) / '(1,)type'.\n",
      "  _np_qint32 = np.dtype([(\"qint32\", np.int32, 1)])\n",
      "C:\\Users\\arabtech\\Anaconda3\\lib\\site-packages\\tensorflow\\python\\framework\\dtypes.py:525: FutureWarning: Passing (type, 1) or '1type' as a synonym of type is deprecated; in a future version of numpy, it will be understood as (type, (1,)) / '(1,)type'.\n",
      "  np_resource = np.dtype([(\"resource\", np.ubyte, 1)])\n",
      "C:\\Users\\arabtech\\Anaconda3\\lib\\site-packages\\requests\\__init__.py:91: RequestsDependencyWarning: urllib3 (1.26.5) or chardet (3.0.4) doesn't match a supported version!\n",
      "  RequestsDependencyWarning)\n",
      "C:\\Users\\arabtech\\Anaconda3\\lib\\site-packages\\tensorboard\\compat\\tensorflow_stub\\dtypes.py:541: FutureWarning: Passing (type, 1) or '1type' as a synonym of type is deprecated; in a future version of numpy, it will be understood as (type, (1,)) / '(1,)type'.\n",
      "  _np_qint8 = np.dtype([(\"qint8\", np.int8, 1)])\n",
      "C:\\Users\\arabtech\\Anaconda3\\lib\\site-packages\\tensorboard\\compat\\tensorflow_stub\\dtypes.py:542: FutureWarning: Passing (type, 1) or '1type' as a synonym of type is deprecated; in a future version of numpy, it will be understood as (type, (1,)) / '(1,)type'.\n",
      "  _np_quint8 = np.dtype([(\"quint8\", np.uint8, 1)])\n",
      "C:\\Users\\arabtech\\Anaconda3\\lib\\site-packages\\tensorboard\\compat\\tensorflow_stub\\dtypes.py:543: FutureWarning: Passing (type, 1) or '1type' as a synonym of type is deprecated; in a future version of numpy, it will be understood as (type, (1,)) / '(1,)type'.\n",
      "  _np_qint16 = np.dtype([(\"qint16\", np.int16, 1)])\n",
      "C:\\Users\\arabtech\\Anaconda3\\lib\\site-packages\\tensorboard\\compat\\tensorflow_stub\\dtypes.py:544: FutureWarning: Passing (type, 1) or '1type' as a synonym of type is deprecated; in a future version of numpy, it will be understood as (type, (1,)) / '(1,)type'.\n",
      "  _np_quint16 = np.dtype([(\"quint16\", np.uint16, 1)])\n",
      "C:\\Users\\arabtech\\Anaconda3\\lib\\site-packages\\tensorboard\\compat\\tensorflow_stub\\dtypes.py:545: FutureWarning: Passing (type, 1) or '1type' as a synonym of type is deprecated; in a future version of numpy, it will be understood as (type, (1,)) / '(1,)type'.\n",
      "  _np_qint32 = np.dtype([(\"qint32\", np.int32, 1)])\n",
      "C:\\Users\\arabtech\\Anaconda3\\lib\\site-packages\\tensorboard\\compat\\tensorflow_stub\\dtypes.py:550: FutureWarning: Passing (type, 1) or '1type' as a synonym of type is deprecated; in a future version of numpy, it will be understood as (type, (1,)) / '(1,)type'.\n",
      "  np_resource = np.dtype([(\"resource\", np.ubyte, 1)])\n"
     ]
    }
   ],
   "source": [
    "import pandas as pd\n",
    "import numpy as np\n",
    "from tensorflow.keras.layers import Dropout\n",
    "from tensorflow.keras import regularizers\n",
    "import seaborn as sns\n",
    "from sklearn.utils import resample\n",
    "from sklearn.model_selection import train_test_split\n",
    "from tensorflow.keras.models import Sequential\n",
    "from tensorflow.keras.layers import Dense\n",
    "from tensorflow import keras\n",
    "import tensorflow as tf\n",
    "from sklearn import preprocessing\n",
    "import matplotlib.pyplot as plt"
   ]
  },
  {
   "cell_type": "code",
   "execution_count": 3,
   "metadata": {
    "colab": {
     "base_uri": "https://localhost:8080/",
     "height": 307
    },
    "id": "AC_SkUjp-gMg",
    "outputId": "5bfae53c-b7c5-4360-fd73-8248a0542520"
   },
   "outputs": [
    {
     "data": {
      "text/html": [
       "<div>\n",
       "<style scoped>\n",
       "    .dataframe tbody tr th:only-of-type {\n",
       "        vertical-align: middle;\n",
       "    }\n",
       "\n",
       "    .dataframe tbody tr th {\n",
       "        vertical-align: top;\n",
       "    }\n",
       "\n",
       "    .dataframe thead th {\n",
       "        text-align: right;\n",
       "    }\n",
       "</style>\n",
       "<table border=\"1\" class=\"dataframe\">\n",
       "  <thead>\n",
       "    <tr style=\"text-align: right;\">\n",
       "      <th></th>\n",
       "      <th>0</th>\n",
       "      <th>1</th>\n",
       "      <th>2</th>\n",
       "      <th>3</th>\n",
       "      <th>4</th>\n",
       "      <th>5</th>\n",
       "      <th>6</th>\n",
       "      <th>7</th>\n",
       "      <th>8</th>\n",
       "      <th>9</th>\n",
       "      <th>...</th>\n",
       "      <th>16</th>\n",
       "      <th>17</th>\n",
       "      <th>18</th>\n",
       "      <th>19</th>\n",
       "      <th>20</th>\n",
       "      <th>21</th>\n",
       "      <th>22</th>\n",
       "      <th>23</th>\n",
       "      <th>24</th>\n",
       "      <th>25</th>\n",
       "    </tr>\n",
       "  </thead>\n",
       "  <tbody>\n",
       "    <tr>\n",
       "      <td>0</td>\n",
       "      <td>NaN</td>\n",
       "      <td>NaN</td>\n",
       "      <td>NaN</td>\n",
       "      <td>RELATIVE</td>\n",
       "      <td>NaN</td>\n",
       "      <td>ABSOLUE</td>\n",
       "      <td>NaN</td>\n",
       "      <td>ABSOLUE</td>\n",
       "      <td>NaN</td>\n",
       "      <td>RELATIVE</td>\n",
       "      <td>...</td>\n",
       "      <td>NaN</td>\n",
       "      <td>NaN</td>\n",
       "      <td>NaN</td>\n",
       "      <td>NaN</td>\n",
       "      <td>NaN</td>\n",
       "      <td>NaN</td>\n",
       "      <td>NaN</td>\n",
       "      <td>NaN</td>\n",
       "      <td>NaN</td>\n",
       "      <td>NaN</td>\n",
       "    </tr>\n",
       "    <tr>\n",
       "      <td>1</td>\n",
       "      <td>NaN</td>\n",
       "      <td>NaN</td>\n",
       "      <td>NaN</td>\n",
       "      <td>MOOD</td>\n",
       "      <td>NaN</td>\n",
       "      <td>PSYCHIC ACTIVITY</td>\n",
       "      <td>NaN</td>\n",
       "      <td>PSYCHIC ACTIVITY</td>\n",
       "      <td>NaN</td>\n",
       "      <td>MOOD</td>\n",
       "      <td>...</td>\n",
       "      <td>NaN</td>\n",
       "      <td>NaN</td>\n",
       "      <td>NaN</td>\n",
       "      <td>NaN</td>\n",
       "      <td>NaN</td>\n",
       "      <td>NaN</td>\n",
       "      <td>NaN</td>\n",
       "      <td>NaN</td>\n",
       "      <td>NaN</td>\n",
       "      <td>NaN</td>\n",
       "    </tr>\n",
       "    <tr>\n",
       "      <td>2</td>\n",
       "      <td>NaN</td>\n",
       "      <td>NaN</td>\n",
       "      <td>NaN</td>\n",
       "      <td>deviation</td>\n",
       "      <td>NaN</td>\n",
       "      <td>asolute deviation</td>\n",
       "      <td>NaN</td>\n",
       "      <td>Rolling cumulative 10 secondes</td>\n",
       "      <td>NaN</td>\n",
       "      <td>Rolling cumulative 10 secondes</td>\n",
       "      <td>...</td>\n",
       "      <td>NaN</td>\n",
       "      <td>NaN</td>\n",
       "      <td>NaN</td>\n",
       "      <td>NaN</td>\n",
       "      <td>NaN</td>\n",
       "      <td>NaN</td>\n",
       "      <td>NaN</td>\n",
       "      <td>NaN</td>\n",
       "      <td>NaN</td>\n",
       "      <td>NaN</td>\n",
       "    </tr>\n",
       "    <tr>\n",
       "      <td>3</td>\n",
       "      <td>09:09:00:718</td>\n",
       "      <td>22.74</td>\n",
       "      <td>09:09:00:718</td>\n",
       "      <td>NaN</td>\n",
       "      <td>09:09:00:718</td>\n",
       "      <td>0</td>\n",
       "      <td>09:09:00:718</td>\n",
       "      <td>NaN</td>\n",
       "      <td>09:09:00:718</td>\n",
       "      <td>NaN</td>\n",
       "      <td>...</td>\n",
       "      <td>NaN</td>\n",
       "      <td>NaN</td>\n",
       "      <td>NaN</td>\n",
       "      <td>NaN</td>\n",
       "      <td>NaN</td>\n",
       "      <td>NaN</td>\n",
       "      <td>NaN</td>\n",
       "      <td>NaN</td>\n",
       "      <td>NaN</td>\n",
       "      <td>NaN</td>\n",
       "    </tr>\n",
       "    <tr>\n",
       "      <td>4</td>\n",
       "      <td>09:09:01:749</td>\n",
       "      <td>22.74</td>\n",
       "      <td>09:09:01:749</td>\n",
       "      <td>0</td>\n",
       "      <td>09:09:01:749</td>\n",
       "      <td>0</td>\n",
       "      <td>09:09:01:749</td>\n",
       "      <td>NaN</td>\n",
       "      <td>09:09:01:749</td>\n",
       "      <td>NaN</td>\n",
       "      <td>...</td>\n",
       "      <td>NaN</td>\n",
       "      <td>NaN</td>\n",
       "      <td>NaN</td>\n",
       "      <td>NaN</td>\n",
       "      <td>NaN</td>\n",
       "      <td>NaN</td>\n",
       "      <td>NaN</td>\n",
       "      <td>NaN</td>\n",
       "      <td>NaN</td>\n",
       "      <td>NaN</td>\n",
       "    </tr>\n",
       "  </tbody>\n",
       "</table>\n",
       "<p>5 rows × 26 columns</p>\n",
       "</div>"
      ],
      "text/plain": [
       "             0      1             2          3             4   \\\n",
       "0           NaN    NaN           NaN   RELATIVE           NaN   \n",
       "1           NaN    NaN           NaN       MOOD           NaN   \n",
       "2           NaN    NaN           NaN  deviation           NaN   \n",
       "3  09:09:00:718  22.74  09:09:00:718        NaN  09:09:00:718   \n",
       "4  09:09:01:749  22.74  09:09:01:749          0  09:09:01:749   \n",
       "\n",
       "                  5             6                               7   \\\n",
       "0            ABSOLUE           NaN                         ABSOLUE   \n",
       "1   PSYCHIC ACTIVITY           NaN                PSYCHIC ACTIVITY   \n",
       "2  asolute deviation           NaN  Rolling cumulative 10 secondes   \n",
       "3                  0  09:09:00:718                             NaN   \n",
       "4                  0  09:09:01:749                             NaN   \n",
       "\n",
       "             8                               9   ...   16   17   18   19  20  \\\n",
       "0           NaN                        RELATIVE  ...  NaN  NaN  NaN  NaN NaN   \n",
       "1           NaN                            MOOD  ...  NaN  NaN  NaN  NaN NaN   \n",
       "2           NaN  Rolling cumulative 10 secondes  ...  NaN  NaN  NaN  NaN NaN   \n",
       "3  09:09:00:718                             NaN  ...  NaN  NaN  NaN  NaN NaN   \n",
       "4  09:09:01:749                             NaN  ...  NaN  NaN  NaN  NaN NaN   \n",
       "\n",
       "   21  22   23   24   25  \n",
       "0 NaN NaN  NaN  NaN  NaN  \n",
       "1 NaN NaN  NaN  NaN  NaN  \n",
       "2 NaN NaN  NaN  NaN  NaN  \n",
       "3 NaN NaN  NaN  NaN  NaN  \n",
       "4 NaN NaN  NaN  NaN  NaN  \n",
       "\n",
       "[5 rows x 26 columns]"
      ]
     },
     "execution_count": 3,
     "metadata": {},
     "output_type": "execute_result"
    }
   ],
   "source": [
    "df=pd.read_excel('Kansai data-20210530/doubleYoudata.xlsm',header=None)\n",
    "df.head()"
   ]
  },
  {
   "cell_type": "code",
   "execution_count": 4,
   "metadata": {
    "colab": {
     "base_uri": "https://localhost:8080/",
     "height": 417
    },
    "id": "I9oTF9Vjtc6Y",
    "outputId": "00326659-2318-4bef-d3a5-906dd37ec947"
   },
   "outputs": [
    {
     "data": {
      "text/html": [
       "<div>\n",
       "<style scoped>\n",
       "    .dataframe tbody tr th:only-of-type {\n",
       "        vertical-align: middle;\n",
       "    }\n",
       "\n",
       "    .dataframe tbody tr th {\n",
       "        vertical-align: top;\n",
       "    }\n",
       "\n",
       "    .dataframe thead th {\n",
       "        text-align: right;\n",
       "    }\n",
       "</style>\n",
       "<table border=\"1\" class=\"dataframe\">\n",
       "  <thead>\n",
       "    <tr style=\"text-align: right;\">\n",
       "      <th></th>\n",
       "      <th>0</th>\n",
       "      <th>1</th>\n",
       "      <th>2</th>\n",
       "      <th>3</th>\n",
       "      <th>4</th>\n",
       "      <th>5</th>\n",
       "      <th>6</th>\n",
       "      <th>7</th>\n",
       "      <th>8</th>\n",
       "      <th>9</th>\n",
       "      <th>10</th>\n",
       "      <th>11</th>\n",
       "      <th>12</th>\n",
       "    </tr>\n",
       "  </thead>\n",
       "  <tbody>\n",
       "    <tr>\n",
       "      <td>35</td>\n",
       "      <td>09:09:33:716</td>\n",
       "      <td>22.72</td>\n",
       "      <td>09:09:33:716</td>\n",
       "      <td>0</td>\n",
       "      <td>09:09:33:716</td>\n",
       "      <td>0</td>\n",
       "      <td>09:09:33:716</td>\n",
       "      <td>NaN</td>\n",
       "      <td>09:09:33:716</td>\n",
       "      <td>-0.01</td>\n",
       "      <td>09:09:33:716</td>\n",
       "      <td>0</td>\n",
       "      <td>0</td>\n",
       "    </tr>\n",
       "    <tr>\n",
       "      <td>36</td>\n",
       "      <td>09:09:34:747</td>\n",
       "      <td>22.72</td>\n",
       "      <td>09:09:34:747</td>\n",
       "      <td>0</td>\n",
       "      <td>09:09:34:747</td>\n",
       "      <td>0</td>\n",
       "      <td>09:09:34:747</td>\n",
       "      <td>NaN</td>\n",
       "      <td>09:09:34:747</td>\n",
       "      <td>-0.01</td>\n",
       "      <td>09:09:34:747</td>\n",
       "      <td>0</td>\n",
       "      <td>0</td>\n",
       "    </tr>\n",
       "    <tr>\n",
       "      <td>37</td>\n",
       "      <td>09:09:35:778</td>\n",
       "      <td>22.72</td>\n",
       "      <td>09:09:35:778</td>\n",
       "      <td>0</td>\n",
       "      <td>09:09:35:778</td>\n",
       "      <td>0</td>\n",
       "      <td>09:09:35:778</td>\n",
       "      <td>NaN</td>\n",
       "      <td>09:09:35:778</td>\n",
       "      <td>-0.01</td>\n",
       "      <td>09:09:35:778</td>\n",
       "      <td>0</td>\n",
       "      <td>0</td>\n",
       "    </tr>\n",
       "    <tr>\n",
       "      <td>38</td>\n",
       "      <td>09:09:36:810</td>\n",
       "      <td>22.72</td>\n",
       "      <td>09:09:36:810</td>\n",
       "      <td>0</td>\n",
       "      <td>09:09:36:810</td>\n",
       "      <td>0</td>\n",
       "      <td>09:09:36:810</td>\n",
       "      <td>NaN</td>\n",
       "      <td>09:09:36:810</td>\n",
       "      <td>-0.01</td>\n",
       "      <td>09:09:36:810</td>\n",
       "      <td>0</td>\n",
       "      <td>0</td>\n",
       "    </tr>\n",
       "    <tr>\n",
       "      <td>39</td>\n",
       "      <td>09:09:37:841</td>\n",
       "      <td>22.72</td>\n",
       "      <td>09:09:37:841</td>\n",
       "      <td>0</td>\n",
       "      <td>09:09:37:841</td>\n",
       "      <td>0</td>\n",
       "      <td>09:09:37:841</td>\n",
       "      <td>NaN</td>\n",
       "      <td>09:09:37:841</td>\n",
       "      <td>-0.01</td>\n",
       "      <td>09:09:37:841</td>\n",
       "      <td>0</td>\n",
       "      <td>0</td>\n",
       "    </tr>\n",
       "    <tr>\n",
       "      <td>...</td>\n",
       "      <td>...</td>\n",
       "      <td>...</td>\n",
       "      <td>...</td>\n",
       "      <td>...</td>\n",
       "      <td>...</td>\n",
       "      <td>...</td>\n",
       "      <td>...</td>\n",
       "      <td>...</td>\n",
       "      <td>...</td>\n",
       "      <td>...</td>\n",
       "      <td>...</td>\n",
       "      <td>...</td>\n",
       "      <td>...</td>\n",
       "    </tr>\n",
       "    <tr>\n",
       "      <td>3567</td>\n",
       "      <td>10:10:14:848</td>\n",
       "      <td>22.67</td>\n",
       "      <td>10:10:14:848</td>\n",
       "      <td>0</td>\n",
       "      <td>10:10:14:848</td>\n",
       "      <td>0</td>\n",
       "      <td>10:10:14:848</td>\n",
       "      <td>0</td>\n",
       "      <td>10:10:14:848</td>\n",
       "      <td>NaN</td>\n",
       "      <td>10:10:14:848</td>\n",
       "      <td>0</td>\n",
       "      <td>0</td>\n",
       "    </tr>\n",
       "    <tr>\n",
       "      <td>3568</td>\n",
       "      <td>10:10:15:879</td>\n",
       "      <td>22.67</td>\n",
       "      <td>10:10:15:879</td>\n",
       "      <td>0</td>\n",
       "      <td>10:10:15:879</td>\n",
       "      <td>0</td>\n",
       "      <td>10:10:15:879</td>\n",
       "      <td>0</td>\n",
       "      <td>10:10:15:879</td>\n",
       "      <td>NaN</td>\n",
       "      <td>10:10:15:879</td>\n",
       "      <td>0</td>\n",
       "      <td>0</td>\n",
       "    </tr>\n",
       "    <tr>\n",
       "      <td>3569</td>\n",
       "      <td>10:10:16:911</td>\n",
       "      <td>22.67</td>\n",
       "      <td>10:10:16:911</td>\n",
       "      <td>0</td>\n",
       "      <td>10:10:16:911</td>\n",
       "      <td>0</td>\n",
       "      <td>10:10:16:911</td>\n",
       "      <td>0</td>\n",
       "      <td>10:10:16:911</td>\n",
       "      <td>NaN</td>\n",
       "      <td>10:10:16:911</td>\n",
       "      <td>0</td>\n",
       "      <td>0</td>\n",
       "    </tr>\n",
       "    <tr>\n",
       "      <td>3570</td>\n",
       "      <td>10:10:17:942</td>\n",
       "      <td>22.67</td>\n",
       "      <td>10:10:17:942</td>\n",
       "      <td>0</td>\n",
       "      <td>10:10:17:942</td>\n",
       "      <td>0</td>\n",
       "      <td>10:10:17:942</td>\n",
       "      <td>0</td>\n",
       "      <td>10:10:17:942</td>\n",
       "      <td>NaN</td>\n",
       "      <td>10:10:17:942</td>\n",
       "      <td>0</td>\n",
       "      <td>0</td>\n",
       "    </tr>\n",
       "    <tr>\n",
       "      <td>3571</td>\n",
       "      <td>10:10:18:973</td>\n",
       "      <td>22.67</td>\n",
       "      <td>10:10:18:973</td>\n",
       "      <td>0</td>\n",
       "      <td>10:10:18:973</td>\n",
       "      <td>0</td>\n",
       "      <td>10:10:18:973</td>\n",
       "      <td>0</td>\n",
       "      <td>10:10:18:973</td>\n",
       "      <td>NaN</td>\n",
       "      <td>10:10:18:973</td>\n",
       "      <td>0</td>\n",
       "      <td>0</td>\n",
       "    </tr>\n",
       "  </tbody>\n",
       "</table>\n",
       "<p>3537 rows × 13 columns</p>\n",
       "</div>"
      ],
      "text/plain": [
       "                0      1             2  3             4  5             6   \\\n",
       "35    09:09:33:716  22.72  09:09:33:716  0  09:09:33:716  0  09:09:33:716   \n",
       "36    09:09:34:747  22.72  09:09:34:747  0  09:09:34:747  0  09:09:34:747   \n",
       "37    09:09:35:778  22.72  09:09:35:778  0  09:09:35:778  0  09:09:35:778   \n",
       "38    09:09:36:810  22.72  09:09:36:810  0  09:09:36:810  0  09:09:36:810   \n",
       "39    09:09:37:841  22.72  09:09:37:841  0  09:09:37:841  0  09:09:37:841   \n",
       "...            ...    ...           ... ..           ... ..           ...   \n",
       "3567  10:10:14:848  22.67  10:10:14:848  0  10:10:14:848  0  10:10:14:848   \n",
       "3568  10:10:15:879  22.67  10:10:15:879  0  10:10:15:879  0  10:10:15:879   \n",
       "3569  10:10:16:911  22.67  10:10:16:911  0  10:10:16:911  0  10:10:16:911   \n",
       "3570  10:10:17:942  22.67  10:10:17:942  0  10:10:17:942  0  10:10:17:942   \n",
       "3571  10:10:18:973  22.67  10:10:18:973  0  10:10:18:973  0  10:10:18:973   \n",
       "\n",
       "       7             8     9             10 11 12  \n",
       "35    NaN  09:09:33:716 -0.01  09:09:33:716  0  0  \n",
       "36    NaN  09:09:34:747 -0.01  09:09:34:747  0  0  \n",
       "37    NaN  09:09:35:778 -0.01  09:09:35:778  0  0  \n",
       "38    NaN  09:09:36:810 -0.01  09:09:36:810  0  0  \n",
       "39    NaN  09:09:37:841 -0.01  09:09:37:841  0  0  \n",
       "...   ...           ...   ...           ... .. ..  \n",
       "3567    0  10:10:14:848   NaN  10:10:14:848  0  0  \n",
       "3568    0  10:10:15:879   NaN  10:10:15:879  0  0  \n",
       "3569    0  10:10:16:911   NaN  10:10:16:911  0  0  \n",
       "3570    0  10:10:17:942   NaN  10:10:17:942  0  0  \n",
       "3571    0  10:10:18:973   NaN  10:10:18:973  0  0  \n",
       "\n",
       "[3537 rows x 13 columns]"
      ]
     },
     "execution_count": 4,
     "metadata": {},
     "output_type": "execute_result"
    }
   ],
   "source": [
    "df = df.iloc[35:3572 ,:13]\n",
    "df"
   ]
  },
  {
   "cell_type": "code",
   "execution_count": 5,
   "metadata": {
    "id": "utYwBBkojhA4"
   },
   "outputs": [],
   "source": [
    "df = df.drop(columns= [2, 4, 6, 8, 10])"
   ]
  },
  {
   "cell_type": "code",
   "execution_count": 6,
   "metadata": {
    "id": "MLxFbTDyVY51"
   },
   "outputs": [],
   "source": [
    "df = df.rename(columns = {0:\"time\",1:\"Heartbeat\", 3:\"RMD\", 5:\"PSYCHIC ACTIVITY asolute deviation\", 7:\"Rolling cumulative 10 secondes\",9:\"Relative Mood Rolling cumulative 10 secondes\", 11:\"positive\", 12:\"negative\"})"
   ]
  },
  {
   "cell_type": "code",
   "execution_count": 7,
   "metadata": {
    "id": "llVSsXNMVY51"
   },
   "outputs": [],
   "source": [
    "df = df.dropna()"
   ]
  },
  {
   "cell_type": "code",
   "execution_count": 8,
   "metadata": {
    "colab": {
     "base_uri": "https://localhost:8080/",
     "height": 203
    },
    "id": "4Je5zqT8VY52",
    "outputId": "dc47d853-d2c8-423f-8a49-525b31626f0f",
    "scrolled": false
   },
   "outputs": [
    {
     "data": {
      "text/html": [
       "<div>\n",
       "<style scoped>\n",
       "    .dataframe tbody tr th:only-of-type {\n",
       "        vertical-align: middle;\n",
       "    }\n",
       "\n",
       "    .dataframe tbody tr th {\n",
       "        vertical-align: top;\n",
       "    }\n",
       "\n",
       "    .dataframe thead th {\n",
       "        text-align: right;\n",
       "    }\n",
       "</style>\n",
       "<table border=\"1\" class=\"dataframe\">\n",
       "  <thead>\n",
       "    <tr style=\"text-align: right;\">\n",
       "      <th></th>\n",
       "      <th>time</th>\n",
       "      <th>Heartbeat</th>\n",
       "      <th>RMD</th>\n",
       "      <th>PSYCHIC ACTIVITY asolute deviation</th>\n",
       "      <th>Rolling cumulative 10 secondes</th>\n",
       "      <th>Relative Mood Rolling cumulative 10 secondes</th>\n",
       "      <th>positive</th>\n",
       "      <th>negative</th>\n",
       "    </tr>\n",
       "  </thead>\n",
       "  <tbody>\n",
       "    <tr>\n",
       "      <td>158</td>\n",
       "      <td>09:11:40:525</td>\n",
       "      <td>22.62</td>\n",
       "      <td>0</td>\n",
       "      <td>0</td>\n",
       "      <td>0.01</td>\n",
       "      <td>-0.01</td>\n",
       "      <td>0</td>\n",
       "      <td>0</td>\n",
       "    </tr>\n",
       "    <tr>\n",
       "      <td>159</td>\n",
       "      <td>09:11:41:556</td>\n",
       "      <td>22.62</td>\n",
       "      <td>0</td>\n",
       "      <td>0</td>\n",
       "      <td>0.01</td>\n",
       "      <td>-0.01</td>\n",
       "      <td>0</td>\n",
       "      <td>0</td>\n",
       "    </tr>\n",
       "    <tr>\n",
       "      <td>160</td>\n",
       "      <td>09:11:42:587</td>\n",
       "      <td>22.62</td>\n",
       "      <td>0</td>\n",
       "      <td>0</td>\n",
       "      <td>0.01</td>\n",
       "      <td>-0.01</td>\n",
       "      <td>0</td>\n",
       "      <td>0</td>\n",
       "    </tr>\n",
       "    <tr>\n",
       "      <td>161</td>\n",
       "      <td>09:11:43:619</td>\n",
       "      <td>22.62</td>\n",
       "      <td>0</td>\n",
       "      <td>0</td>\n",
       "      <td>0.01</td>\n",
       "      <td>-0.01</td>\n",
       "      <td>0</td>\n",
       "      <td>0</td>\n",
       "    </tr>\n",
       "    <tr>\n",
       "      <td>162</td>\n",
       "      <td>09:11:44:650</td>\n",
       "      <td>22.61</td>\n",
       "      <td>-0.01</td>\n",
       "      <td>0.01</td>\n",
       "      <td>0.02</td>\n",
       "      <td>-0.02</td>\n",
       "      <td>0</td>\n",
       "      <td>0.01</td>\n",
       "    </tr>\n",
       "  </tbody>\n",
       "</table>\n",
       "</div>"
      ],
      "text/plain": [
       "             time  Heartbeat   RMD PSYCHIC ACTIVITY asolute deviation  \\\n",
       "158  09:11:40:525      22.62     0                                  0   \n",
       "159  09:11:41:556      22.62     0                                  0   \n",
       "160  09:11:42:587      22.62     0                                  0   \n",
       "161  09:11:43:619      22.62     0                                  0   \n",
       "162  09:11:44:650      22.61 -0.01                               0.01   \n",
       "\n",
       "    Rolling cumulative 10 secondes  \\\n",
       "158                           0.01   \n",
       "159                           0.01   \n",
       "160                           0.01   \n",
       "161                           0.01   \n",
       "162                           0.02   \n",
       "\n",
       "    Relative Mood Rolling cumulative 10 secondes positive negative  \n",
       "158                                        -0.01        0        0  \n",
       "159                                        -0.01        0        0  \n",
       "160                                        -0.01        0        0  \n",
       "161                                        -0.01        0        0  \n",
       "162                                        -0.02        0     0.01  "
      ]
     },
     "execution_count": 8,
     "metadata": {},
     "output_type": "execute_result"
    }
   ],
   "source": [
    "df.head()"
   ]
  },
  {
   "cell_type": "code",
   "execution_count": 9,
   "metadata": {
    "id": "nLJ0YepoVY52"
   },
   "outputs": [],
   "source": [
    "df[\"Heartbeat\"] = pd.to_numeric(df.Heartbeat, errors = 'coerce')"
   ]
  },
  {
   "cell_type": "code",
   "execution_count": 10,
   "metadata": {
    "id": "eCFJxyD0VY52"
   },
   "outputs": [],
   "source": [
    "df[\"RMD\"] = pd.to_numeric(df.RMD, errors = 'coerce')"
   ]
  },
  {
   "cell_type": "code",
   "execution_count": 11,
   "metadata": {
    "id": "RIqt5SDnVY52"
   },
   "outputs": [],
   "source": [
    "df[\"PSYCHIC ACTIVITY asolute deviation\"] = pd.to_numeric(df['PSYCHIC ACTIVITY asolute deviation'], errors = 'coerce')"
   ]
  },
  {
   "cell_type": "code",
   "execution_count": 12,
   "metadata": {
    "id": "nzqN1vS1VY53",
    "scrolled": true
   },
   "outputs": [],
   "source": [
    "df[\"Rolling cumulative 10 secondes\"] = pd.to_numeric(df['Rolling cumulative 10 secondes'], errors = 'coerce')\n",
    "df[\"Relative Mood Rolling cumulative 10 secondes\"] = pd.to_numeric(df['Relative Mood Rolling cumulative 10 secondes'], errors = 'coerce')\n",
    "df[\"positive\"] = pd.to_numeric(df.positive, errors = 'coerce')\n",
    "df[\"negative\"] = pd.to_numeric(df.negative, errors = 'coerce')"
   ]
  },
  {
   "cell_type": "code",
   "execution_count": 13,
   "metadata": {
    "colab": {
     "base_uri": "https://localhost:8080/",
     "height": 417
    },
    "id": "ow10gEtdVY53",
    "outputId": "cfea2d48-3942-4d84-d532-08c51084a53d"
   },
   "outputs": [
    {
     "data": {
      "text/html": [
       "<div>\n",
       "<style scoped>\n",
       "    .dataframe tbody tr th:only-of-type {\n",
       "        vertical-align: middle;\n",
       "    }\n",
       "\n",
       "    .dataframe tbody tr th {\n",
       "        vertical-align: top;\n",
       "    }\n",
       "\n",
       "    .dataframe thead th {\n",
       "        text-align: right;\n",
       "    }\n",
       "</style>\n",
       "<table border=\"1\" class=\"dataframe\">\n",
       "  <thead>\n",
       "    <tr style=\"text-align: right;\">\n",
       "      <th></th>\n",
       "      <th>time</th>\n",
       "      <th>Heartbeat</th>\n",
       "      <th>RMD</th>\n",
       "      <th>PSYCHIC ACTIVITY asolute deviation</th>\n",
       "      <th>Rolling cumulative 10 secondes</th>\n",
       "      <th>Relative Mood Rolling cumulative 10 secondes</th>\n",
       "      <th>positive</th>\n",
       "      <th>negative</th>\n",
       "    </tr>\n",
       "  </thead>\n",
       "  <tbody>\n",
       "    <tr>\n",
       "      <td>158</td>\n",
       "      <td>1900-01-01 09:11:40.525</td>\n",
       "      <td>22.62</td>\n",
       "      <td>0.00</td>\n",
       "      <td>0.00</td>\n",
       "      <td>0.01</td>\n",
       "      <td>-0.01</td>\n",
       "      <td>0.0</td>\n",
       "      <td>0.00</td>\n",
       "    </tr>\n",
       "    <tr>\n",
       "      <td>159</td>\n",
       "      <td>1900-01-01 09:11:41.556</td>\n",
       "      <td>22.62</td>\n",
       "      <td>0.00</td>\n",
       "      <td>0.00</td>\n",
       "      <td>0.01</td>\n",
       "      <td>-0.01</td>\n",
       "      <td>0.0</td>\n",
       "      <td>0.00</td>\n",
       "    </tr>\n",
       "    <tr>\n",
       "      <td>160</td>\n",
       "      <td>1900-01-01 09:11:42.587</td>\n",
       "      <td>22.62</td>\n",
       "      <td>0.00</td>\n",
       "      <td>0.00</td>\n",
       "      <td>0.01</td>\n",
       "      <td>-0.01</td>\n",
       "      <td>0.0</td>\n",
       "      <td>0.00</td>\n",
       "    </tr>\n",
       "    <tr>\n",
       "      <td>161</td>\n",
       "      <td>1900-01-01 09:11:43.619</td>\n",
       "      <td>22.62</td>\n",
       "      <td>0.00</td>\n",
       "      <td>0.00</td>\n",
       "      <td>0.01</td>\n",
       "      <td>-0.01</td>\n",
       "      <td>0.0</td>\n",
       "      <td>0.00</td>\n",
       "    </tr>\n",
       "    <tr>\n",
       "      <td>162</td>\n",
       "      <td>1900-01-01 09:11:44.650</td>\n",
       "      <td>22.61</td>\n",
       "      <td>-0.01</td>\n",
       "      <td>0.01</td>\n",
       "      <td>0.02</td>\n",
       "      <td>-0.02</td>\n",
       "      <td>0.0</td>\n",
       "      <td>0.01</td>\n",
       "    </tr>\n",
       "    <tr>\n",
       "      <td>...</td>\n",
       "      <td>...</td>\n",
       "      <td>...</td>\n",
       "      <td>...</td>\n",
       "      <td>...</td>\n",
       "      <td>...</td>\n",
       "      <td>...</td>\n",
       "      <td>...</td>\n",
       "      <td>...</td>\n",
       "    </tr>\n",
       "    <tr>\n",
       "      <td>3148</td>\n",
       "      <td>1900-01-01 10:03:02.723</td>\n",
       "      <td>22.79</td>\n",
       "      <td>0.00</td>\n",
       "      <td>0.00</td>\n",
       "      <td>0.02</td>\n",
       "      <td>-0.02</td>\n",
       "      <td>0.0</td>\n",
       "      <td>0.00</td>\n",
       "    </tr>\n",
       "    <tr>\n",
       "      <td>3149</td>\n",
       "      <td>1900-01-01 10:03:03.755</td>\n",
       "      <td>22.79</td>\n",
       "      <td>0.00</td>\n",
       "      <td>0.00</td>\n",
       "      <td>0.02</td>\n",
       "      <td>-0.02</td>\n",
       "      <td>0.0</td>\n",
       "      <td>0.00</td>\n",
       "    </tr>\n",
       "    <tr>\n",
       "      <td>3150</td>\n",
       "      <td>1900-01-01 10:03:04.786</td>\n",
       "      <td>22.79</td>\n",
       "      <td>0.00</td>\n",
       "      <td>0.00</td>\n",
       "      <td>0.02</td>\n",
       "      <td>-0.02</td>\n",
       "      <td>0.0</td>\n",
       "      <td>0.00</td>\n",
       "    </tr>\n",
       "    <tr>\n",
       "      <td>3151</td>\n",
       "      <td>1900-01-01 10:03:05.817</td>\n",
       "      <td>22.79</td>\n",
       "      <td>0.00</td>\n",
       "      <td>0.00</td>\n",
       "      <td>0.01</td>\n",
       "      <td>-0.01</td>\n",
       "      <td>0.0</td>\n",
       "      <td>0.00</td>\n",
       "    </tr>\n",
       "    <tr>\n",
       "      <td>3152</td>\n",
       "      <td>1900-01-01 10:03:06.848</td>\n",
       "      <td>22.79</td>\n",
       "      <td>0.00</td>\n",
       "      <td>0.00</td>\n",
       "      <td>0.01</td>\n",
       "      <td>-0.01</td>\n",
       "      <td>0.0</td>\n",
       "      <td>0.00</td>\n",
       "    </tr>\n",
       "  </tbody>\n",
       "</table>\n",
       "<p>2995 rows × 8 columns</p>\n",
       "</div>"
      ],
      "text/plain": [
       "                        time  Heartbeat   RMD  \\\n",
       "158  1900-01-01 09:11:40.525      22.62  0.00   \n",
       "159  1900-01-01 09:11:41.556      22.62  0.00   \n",
       "160  1900-01-01 09:11:42.587      22.62  0.00   \n",
       "161  1900-01-01 09:11:43.619      22.62  0.00   \n",
       "162  1900-01-01 09:11:44.650      22.61 -0.01   \n",
       "...                      ...        ...   ...   \n",
       "3148 1900-01-01 10:03:02.723      22.79  0.00   \n",
       "3149 1900-01-01 10:03:03.755      22.79  0.00   \n",
       "3150 1900-01-01 10:03:04.786      22.79  0.00   \n",
       "3151 1900-01-01 10:03:05.817      22.79  0.00   \n",
       "3152 1900-01-01 10:03:06.848      22.79  0.00   \n",
       "\n",
       "      PSYCHIC ACTIVITY asolute deviation  Rolling cumulative 10 secondes  \\\n",
       "158                                 0.00                            0.01   \n",
       "159                                 0.00                            0.01   \n",
       "160                                 0.00                            0.01   \n",
       "161                                 0.00                            0.01   \n",
       "162                                 0.01                            0.02   \n",
       "...                                  ...                             ...   \n",
       "3148                                0.00                            0.02   \n",
       "3149                                0.00                            0.02   \n",
       "3150                                0.00                            0.02   \n",
       "3151                                0.00                            0.01   \n",
       "3152                                0.00                            0.01   \n",
       "\n",
       "      Relative Mood Rolling cumulative 10 secondes  positive  negative  \n",
       "158                                          -0.01       0.0      0.00  \n",
       "159                                          -0.01       0.0      0.00  \n",
       "160                                          -0.01       0.0      0.00  \n",
       "161                                          -0.01       0.0      0.00  \n",
       "162                                          -0.02       0.0      0.01  \n",
       "...                                            ...       ...       ...  \n",
       "3148                                         -0.02       0.0      0.00  \n",
       "3149                                         -0.02       0.0      0.00  \n",
       "3150                                         -0.02       0.0      0.00  \n",
       "3151                                         -0.01       0.0      0.00  \n",
       "3152                                         -0.01       0.0      0.00  \n",
       "\n",
       "[2995 rows x 8 columns]"
      ]
     },
     "execution_count": 13,
     "metadata": {},
     "output_type": "execute_result"
    }
   ],
   "source": [
    "df['time'] = pd.to_datetime(df['time'], format='%H:%M:%S:%f')\n",
    "df"
   ]
  },
  {
   "cell_type": "code",
   "execution_count": 14,
   "metadata": {
    "id": "YeGoriuhdsxS"
   },
   "outputs": [],
   "source": [
    "df['time']=df['time'].astype('str')\n",
    "df['time'] = df['time'].str.replace('1900-01-01','')"
   ]
  },
  {
   "cell_type": "code",
   "execution_count": 15,
   "metadata": {
    "colab": {
     "base_uri": "https://localhost:8080/",
     "height": 417
    },
    "id": "WbMu68M4fxUn",
    "outputId": "e24a7386-77f6-48ae-fad3-9dc29724476b"
   },
   "outputs": [
    {
     "data": {
      "text/html": [
       "<div>\n",
       "<style scoped>\n",
       "    .dataframe tbody tr th:only-of-type {\n",
       "        vertical-align: middle;\n",
       "    }\n",
       "\n",
       "    .dataframe tbody tr th {\n",
       "        vertical-align: top;\n",
       "    }\n",
       "\n",
       "    .dataframe thead th {\n",
       "        text-align: right;\n",
       "    }\n",
       "</style>\n",
       "<table border=\"1\" class=\"dataframe\">\n",
       "  <thead>\n",
       "    <tr style=\"text-align: right;\">\n",
       "      <th></th>\n",
       "      <th>time</th>\n",
       "      <th>Heartbeat</th>\n",
       "      <th>RMD</th>\n",
       "      <th>PSYCHIC ACTIVITY asolute deviation</th>\n",
       "      <th>Rolling cumulative 10 secondes</th>\n",
       "      <th>Relative Mood Rolling cumulative 10 secondes</th>\n",
       "      <th>positive</th>\n",
       "      <th>negative</th>\n",
       "    </tr>\n",
       "  </thead>\n",
       "  <tbody>\n",
       "    <tr>\n",
       "      <td>158</td>\n",
       "      <td>09:11:40.525</td>\n",
       "      <td>22.62</td>\n",
       "      <td>0.00</td>\n",
       "      <td>0.00</td>\n",
       "      <td>0.01</td>\n",
       "      <td>-0.01</td>\n",
       "      <td>0.0</td>\n",
       "      <td>0.00</td>\n",
       "    </tr>\n",
       "    <tr>\n",
       "      <td>159</td>\n",
       "      <td>09:11:41.556</td>\n",
       "      <td>22.62</td>\n",
       "      <td>0.00</td>\n",
       "      <td>0.00</td>\n",
       "      <td>0.01</td>\n",
       "      <td>-0.01</td>\n",
       "      <td>0.0</td>\n",
       "      <td>0.00</td>\n",
       "    </tr>\n",
       "    <tr>\n",
       "      <td>160</td>\n",
       "      <td>09:11:42.587</td>\n",
       "      <td>22.62</td>\n",
       "      <td>0.00</td>\n",
       "      <td>0.00</td>\n",
       "      <td>0.01</td>\n",
       "      <td>-0.01</td>\n",
       "      <td>0.0</td>\n",
       "      <td>0.00</td>\n",
       "    </tr>\n",
       "    <tr>\n",
       "      <td>161</td>\n",
       "      <td>09:11:43.619</td>\n",
       "      <td>22.62</td>\n",
       "      <td>0.00</td>\n",
       "      <td>0.00</td>\n",
       "      <td>0.01</td>\n",
       "      <td>-0.01</td>\n",
       "      <td>0.0</td>\n",
       "      <td>0.00</td>\n",
       "    </tr>\n",
       "    <tr>\n",
       "      <td>162</td>\n",
       "      <td>09:11:44.650</td>\n",
       "      <td>22.61</td>\n",
       "      <td>-0.01</td>\n",
       "      <td>0.01</td>\n",
       "      <td>0.02</td>\n",
       "      <td>-0.02</td>\n",
       "      <td>0.0</td>\n",
       "      <td>0.01</td>\n",
       "    </tr>\n",
       "    <tr>\n",
       "      <td>...</td>\n",
       "      <td>...</td>\n",
       "      <td>...</td>\n",
       "      <td>...</td>\n",
       "      <td>...</td>\n",
       "      <td>...</td>\n",
       "      <td>...</td>\n",
       "      <td>...</td>\n",
       "      <td>...</td>\n",
       "    </tr>\n",
       "    <tr>\n",
       "      <td>3148</td>\n",
       "      <td>10:03:02.723</td>\n",
       "      <td>22.79</td>\n",
       "      <td>0.00</td>\n",
       "      <td>0.00</td>\n",
       "      <td>0.02</td>\n",
       "      <td>-0.02</td>\n",
       "      <td>0.0</td>\n",
       "      <td>0.00</td>\n",
       "    </tr>\n",
       "    <tr>\n",
       "      <td>3149</td>\n",
       "      <td>10:03:03.755</td>\n",
       "      <td>22.79</td>\n",
       "      <td>0.00</td>\n",
       "      <td>0.00</td>\n",
       "      <td>0.02</td>\n",
       "      <td>-0.02</td>\n",
       "      <td>0.0</td>\n",
       "      <td>0.00</td>\n",
       "    </tr>\n",
       "    <tr>\n",
       "      <td>3150</td>\n",
       "      <td>10:03:04.786</td>\n",
       "      <td>22.79</td>\n",
       "      <td>0.00</td>\n",
       "      <td>0.00</td>\n",
       "      <td>0.02</td>\n",
       "      <td>-0.02</td>\n",
       "      <td>0.0</td>\n",
       "      <td>0.00</td>\n",
       "    </tr>\n",
       "    <tr>\n",
       "      <td>3151</td>\n",
       "      <td>10:03:05.817</td>\n",
       "      <td>22.79</td>\n",
       "      <td>0.00</td>\n",
       "      <td>0.00</td>\n",
       "      <td>0.01</td>\n",
       "      <td>-0.01</td>\n",
       "      <td>0.0</td>\n",
       "      <td>0.00</td>\n",
       "    </tr>\n",
       "    <tr>\n",
       "      <td>3152</td>\n",
       "      <td>10:03:06.848</td>\n",
       "      <td>22.79</td>\n",
       "      <td>0.00</td>\n",
       "      <td>0.00</td>\n",
       "      <td>0.01</td>\n",
       "      <td>-0.01</td>\n",
       "      <td>0.0</td>\n",
       "      <td>0.00</td>\n",
       "    </tr>\n",
       "  </tbody>\n",
       "</table>\n",
       "<p>2995 rows × 8 columns</p>\n",
       "</div>"
      ],
      "text/plain": [
       "               time  Heartbeat   RMD  PSYCHIC ACTIVITY asolute deviation  \\\n",
       "158    09:11:40.525      22.62  0.00                                0.00   \n",
       "159    09:11:41.556      22.62  0.00                                0.00   \n",
       "160    09:11:42.587      22.62  0.00                                0.00   \n",
       "161    09:11:43.619      22.62  0.00                                0.00   \n",
       "162    09:11:44.650      22.61 -0.01                                0.01   \n",
       "...             ...        ...   ...                                 ...   \n",
       "3148   10:03:02.723      22.79  0.00                                0.00   \n",
       "3149   10:03:03.755      22.79  0.00                                0.00   \n",
       "3150   10:03:04.786      22.79  0.00                                0.00   \n",
       "3151   10:03:05.817      22.79  0.00                                0.00   \n",
       "3152   10:03:06.848      22.79  0.00                                0.00   \n",
       "\n",
       "      Rolling cumulative 10 secondes  \\\n",
       "158                             0.01   \n",
       "159                             0.01   \n",
       "160                             0.01   \n",
       "161                             0.01   \n",
       "162                             0.02   \n",
       "...                              ...   \n",
       "3148                            0.02   \n",
       "3149                            0.02   \n",
       "3150                            0.02   \n",
       "3151                            0.01   \n",
       "3152                            0.01   \n",
       "\n",
       "      Relative Mood Rolling cumulative 10 secondes  positive  negative  \n",
       "158                                          -0.01       0.0      0.00  \n",
       "159                                          -0.01       0.0      0.00  \n",
       "160                                          -0.01       0.0      0.00  \n",
       "161                                          -0.01       0.0      0.00  \n",
       "162                                          -0.02       0.0      0.01  \n",
       "...                                            ...       ...       ...  \n",
       "3148                                         -0.02       0.0      0.00  \n",
       "3149                                         -0.02       0.0      0.00  \n",
       "3150                                         -0.02       0.0      0.00  \n",
       "3151                                         -0.01       0.0      0.00  \n",
       "3152                                         -0.01       0.0      0.00  \n",
       "\n",
       "[2995 rows x 8 columns]"
      ]
     },
     "execution_count": 15,
     "metadata": {},
     "output_type": "execute_result"
    }
   ],
   "source": [
    "df"
   ]
  },
  {
   "cell_type": "code",
   "execution_count": 16,
   "metadata": {
    "id": "PMATTdP8eNaI"
   },
   "outputs": [],
   "source": [
    "df['time'] = pd.to_timedelta(df['time'] )"
   ]
  },
  {
   "cell_type": "code",
   "execution_count": 17,
   "metadata": {
    "colab": {
     "base_uri": "https://localhost:8080/"
    },
    "id": "gY-rj5H3gtOn",
    "outputId": "bdffcc91-757d-48c9-e1cc-61876678ca29"
   },
   "outputs": [
    {
     "data": {
      "text/plain": [
       "count    2995.000000\n",
       "mean       23.307259\n",
       "std         0.510327\n",
       "min        22.150000\n",
       "25%        22.940000\n",
       "50%        23.450000\n",
       "75%        23.760000\n",
       "max        23.880000\n",
       "Name: Heartbeat, dtype: float64"
      ]
     },
     "execution_count": 17,
     "metadata": {},
     "output_type": "execute_result"
    }
   ],
   "source": [
    "df[\"Heartbeat\"].describe()"
   ]
  },
  {
   "cell_type": "code",
   "execution_count": 18,
   "metadata": {
    "colab": {
     "base_uri": "https://localhost:8080/",
     "height": 317
    },
    "id": "s72jg3PGZWmc",
    "outputId": "a418d720-9599-477f-f60d-8a26830aac3b"
   },
   "outputs": [
    {
     "data": {
      "image/png": "[encoded data removed]",
      "text/plain": [
       "<Figure size 432x288 with 1 Axes>"
      ]
     },
     "metadata": {
      "needs_background": "light"
     },
     "output_type": "display_data"
    }
   ],
   "source": [
    "lines = df.plot.line(x='time', y='Heartbeat')"
   ]
  },
  {
   "cell_type": "code",
   "execution_count": 19,
   "metadata": {
    "colab": {
     "base_uri": "https://localhost:8080/",
     "height": 417
    },
    "id": "S-WAtFa2iDSc",
    "outputId": "e1295be2-8d0c-41cb-ca95-9826b1d52670"
   },
   "outputs": [
    {
     "data": {
      "text/html": [
       "<div>\n",
       "<style scoped>\n",
       "    .dataframe tbody tr th:only-of-type {\n",
       "        vertical-align: middle;\n",
       "    }\n",
       "\n",
       "    .dataframe tbody tr th {\n",
       "        vertical-align: top;\n",
       "    }\n",
       "\n",
       "    .dataframe thead th {\n",
       "        text-align: right;\n",
       "    }\n",
       "</style>\n",
       "<table border=\"1\" class=\"dataframe\">\n",
       "  <thead>\n",
       "    <tr style=\"text-align: right;\">\n",
       "      <th></th>\n",
       "      <th>time</th>\n",
       "      <th>Heartbeat</th>\n",
       "      <th>RMD</th>\n",
       "      <th>PSYCHIC ACTIVITY asolute deviation</th>\n",
       "      <th>Rolling cumulative 10 secondes</th>\n",
       "      <th>Relative Mood Rolling cumulative 10 secondes</th>\n",
       "      <th>positive</th>\n",
       "      <th>negative</th>\n",
       "    </tr>\n",
       "  </thead>\n",
       "  <tbody>\n",
       "    <tr>\n",
       "      <td>158</td>\n",
       "      <td>09:11:40.525000</td>\n",
       "      <td>22.62</td>\n",
       "      <td>0.00</td>\n",
       "      <td>0.00</td>\n",
       "      <td>0.01</td>\n",
       "      <td>-0.01</td>\n",
       "      <td>0.0</td>\n",
       "      <td>0.00</td>\n",
       "    </tr>\n",
       "    <tr>\n",
       "      <td>159</td>\n",
       "      <td>09:11:41.556000</td>\n",
       "      <td>22.62</td>\n",
       "      <td>0.00</td>\n",
       "      <td>0.00</td>\n",
       "      <td>0.01</td>\n",
       "      <td>-0.01</td>\n",
       "      <td>0.0</td>\n",
       "      <td>0.00</td>\n",
       "    </tr>\n",
       "    <tr>\n",
       "      <td>160</td>\n",
       "      <td>09:11:42.587000</td>\n",
       "      <td>22.62</td>\n",
       "      <td>0.00</td>\n",
       "      <td>0.00</td>\n",
       "      <td>0.01</td>\n",
       "      <td>-0.01</td>\n",
       "      <td>0.0</td>\n",
       "      <td>0.00</td>\n",
       "    </tr>\n",
       "    <tr>\n",
       "      <td>161</td>\n",
       "      <td>09:11:43.619000</td>\n",
       "      <td>22.62</td>\n",
       "      <td>0.00</td>\n",
       "      <td>0.00</td>\n",
       "      <td>0.01</td>\n",
       "      <td>-0.01</td>\n",
       "      <td>0.0</td>\n",
       "      <td>0.00</td>\n",
       "    </tr>\n",
       "    <tr>\n",
       "      <td>162</td>\n",
       "      <td>09:11:44.650000</td>\n",
       "      <td>22.61</td>\n",
       "      <td>-0.01</td>\n",
       "      <td>0.01</td>\n",
       "      <td>0.02</td>\n",
       "      <td>-0.02</td>\n",
       "      <td>0.0</td>\n",
       "      <td>0.01</td>\n",
       "    </tr>\n",
       "    <tr>\n",
       "      <td>...</td>\n",
       "      <td>...</td>\n",
       "      <td>...</td>\n",
       "      <td>...</td>\n",
       "      <td>...</td>\n",
       "      <td>...</td>\n",
       "      <td>...</td>\n",
       "      <td>...</td>\n",
       "      <td>...</td>\n",
       "    </tr>\n",
       "    <tr>\n",
       "      <td>3148</td>\n",
       "      <td>10:03:02.723000</td>\n",
       "      <td>22.79</td>\n",
       "      <td>0.00</td>\n",
       "      <td>0.00</td>\n",
       "      <td>0.02</td>\n",
       "      <td>-0.02</td>\n",
       "      <td>0.0</td>\n",
       "      <td>0.00</td>\n",
       "    </tr>\n",
       "    <tr>\n",
       "      <td>3149</td>\n",
       "      <td>10:03:03.755000</td>\n",
       "      <td>22.79</td>\n",
       "      <td>0.00</td>\n",
       "      <td>0.00</td>\n",
       "      <td>0.02</td>\n",
       "      <td>-0.02</td>\n",
       "      <td>0.0</td>\n",
       "      <td>0.00</td>\n",
       "    </tr>\n",
       "    <tr>\n",
       "      <td>3150</td>\n",
       "      <td>10:03:04.786000</td>\n",
       "      <td>22.79</td>\n",
       "      <td>0.00</td>\n",
       "      <td>0.00</td>\n",
       "      <td>0.02</td>\n",
       "      <td>-0.02</td>\n",
       "      <td>0.0</td>\n",
       "      <td>0.00</td>\n",
       "    </tr>\n",
       "    <tr>\n",
       "      <td>3151</td>\n",
       "      <td>10:03:05.817000</td>\n",
       "      <td>22.79</td>\n",
       "      <td>0.00</td>\n",
       "      <td>0.00</td>\n",
       "      <td>0.01</td>\n",
       "      <td>-0.01</td>\n",
       "      <td>0.0</td>\n",
       "      <td>0.00</td>\n",
       "    </tr>\n",
       "    <tr>\n",
       "      <td>3152</td>\n",
       "      <td>10:03:06.848000</td>\n",
       "      <td>22.79</td>\n",
       "      <td>0.00</td>\n",
       "      <td>0.00</td>\n",
       "      <td>0.01</td>\n",
       "      <td>-0.01</td>\n",
       "      <td>0.0</td>\n",
       "      <td>0.00</td>\n",
       "    </tr>\n",
       "  </tbody>\n",
       "</table>\n",
       "<p>2995 rows × 8 columns</p>\n",
       "</div>"
      ],
      "text/plain": [
       "                time  Heartbeat   RMD  PSYCHIC ACTIVITY asolute deviation  \\\n",
       "158  09:11:40.525000      22.62  0.00                                0.00   \n",
       "159  09:11:41.556000      22.62  0.00                                0.00   \n",
       "160  09:11:42.587000      22.62  0.00                                0.00   \n",
       "161  09:11:43.619000      22.62  0.00                                0.00   \n",
       "162  09:11:44.650000      22.61 -0.01                                0.01   \n",
       "...              ...        ...   ...                                 ...   \n",
       "3148 10:03:02.723000      22.79  0.00                                0.00   \n",
       "3149 10:03:03.755000      22.79  0.00                                0.00   \n",
       "3150 10:03:04.786000      22.79  0.00                                0.00   \n",
       "3151 10:03:05.817000      22.79  0.00                                0.00   \n",
       "3152 10:03:06.848000      22.79  0.00                                0.00   \n",
       "\n",
       "      Rolling cumulative 10 secondes  \\\n",
       "158                             0.01   \n",
       "159                             0.01   \n",
       "160                             0.01   \n",
       "161                             0.01   \n",
       "162                             0.02   \n",
       "...                              ...   \n",
       "3148                            0.02   \n",
       "3149                            0.02   \n",
       "3150                            0.02   \n",
       "3151                            0.01   \n",
       "3152                            0.01   \n",
       "\n",
       "      Relative Mood Rolling cumulative 10 secondes  positive  negative  \n",
       "158                                          -0.01       0.0      0.00  \n",
       "159                                          -0.01       0.0      0.00  \n",
       "160                                          -0.01       0.0      0.00  \n",
       "161                                          -0.01       0.0      0.00  \n",
       "162                                          -0.02       0.0      0.01  \n",
       "...                                            ...       ...       ...  \n",
       "3148                                         -0.02       0.0      0.00  \n",
       "3149                                         -0.02       0.0      0.00  \n",
       "3150                                         -0.02       0.0      0.00  \n",
       "3151                                         -0.01       0.0      0.00  \n",
       "3152                                         -0.01       0.0      0.00  \n",
       "\n",
       "[2995 rows x 8 columns]"
      ]
     },
     "execution_count": 19,
     "metadata": {},
     "output_type": "execute_result"
    }
   ],
   "source": [
    "df"
   ]
  },
  {
   "cell_type": "code",
   "execution_count": 20,
   "metadata": {
    "id": "BGyDcdmMgc8A"
   },
   "outputs": [],
   "source": [
    "#############################################################################################################################################"
   ]
  },
  {
   "cell_type": "code",
   "execution_count": 21,
   "metadata": {
    "colab": {
     "base_uri": "https://localhost:8080/",
     "height": 203
    },
    "id": "ALK_M903VY55",
    "outputId": "4e689d4d-ef74-4077-cf62-755192a33217"
   },
   "outputs": [
    {
     "data": {
      "text/html": [
       "<div>\n",
       "<style scoped>\n",
       "    .dataframe tbody tr th:only-of-type {\n",
       "        vertical-align: middle;\n",
       "    }\n",
       "\n",
       "    .dataframe tbody tr th {\n",
       "        vertical-align: top;\n",
       "    }\n",
       "\n",
       "    .dataframe thead th {\n",
       "        text-align: right;\n",
       "    }\n",
       "</style>\n",
       "<table border=\"1\" class=\"dataframe\">\n",
       "  <thead>\n",
       "    <tr style=\"text-align: right;\">\n",
       "      <th></th>\n",
       "      <th>Timestamp</th>\n",
       "      <th>Time</th>\n",
       "      <th>Like</th>\n",
       "      <th>Interest</th>\n",
       "      <th>Concentration</th>\n",
       "      <th>Calmness</th>\n",
       "      <th>Stress</th>\n",
       "      <th>Noise</th>\n",
       "      <th>Comment</th>\n",
       "      <th>Comment2</th>\n",
       "    </tr>\n",
       "  </thead>\n",
       "  <tbody>\n",
       "    <tr>\n",
       "      <td>0</td>\n",
       "      <td>2021-0324 17:09:00.418</td>\n",
       "      <td>0</td>\n",
       "      <td>45</td>\n",
       "      <td>54</td>\n",
       "      <td>29</td>\n",
       "      <td>35</td>\n",
       "      <td>77</td>\n",
       "      <td>0</td>\n",
       "      <td>NaN</td>\n",
       "      <td>NaN</td>\n",
       "    </tr>\n",
       "    <tr>\n",
       "      <td>1</td>\n",
       "      <td>2021-0324 17:09:01.412</td>\n",
       "      <td>1</td>\n",
       "      <td>53</td>\n",
       "      <td>46</td>\n",
       "      <td>32</td>\n",
       "      <td>35</td>\n",
       "      <td>72</td>\n",
       "      <td>0</td>\n",
       "      <td>NaN</td>\n",
       "      <td>NaN</td>\n",
       "    </tr>\n",
       "    <tr>\n",
       "      <td>2</td>\n",
       "      <td>2021-0324 17:09:02.493</td>\n",
       "      <td>2</td>\n",
       "      <td>45</td>\n",
       "      <td>37</td>\n",
       "      <td>35</td>\n",
       "      <td>33</td>\n",
       "      <td>82</td>\n",
       "      <td>0</td>\n",
       "      <td>NaN</td>\n",
       "      <td>NaN</td>\n",
       "    </tr>\n",
       "    <tr>\n",
       "      <td>3</td>\n",
       "      <td>2021-0324 17:09:03.468</td>\n",
       "      <td>3</td>\n",
       "      <td>52</td>\n",
       "      <td>36</td>\n",
       "      <td>36</td>\n",
       "      <td>28</td>\n",
       "      <td>71</td>\n",
       "      <td>0</td>\n",
       "      <td>NaN</td>\n",
       "      <td>NaN</td>\n",
       "    </tr>\n",
       "    <tr>\n",
       "      <td>4</td>\n",
       "      <td>2021-0324 17:09:04.460</td>\n",
       "      <td>4</td>\n",
       "      <td>55</td>\n",
       "      <td>35</td>\n",
       "      <td>34</td>\n",
       "      <td>22</td>\n",
       "      <td>51</td>\n",
       "      <td>0</td>\n",
       "      <td>NaN</td>\n",
       "      <td>NaN</td>\n",
       "    </tr>\n",
       "  </tbody>\n",
       "</table>\n",
       "</div>"
      ],
      "text/plain": [
       "                Timestamp  Time  Like  Interest  Concentration  Calmness  \\\n",
       "0  2021-0324 17:09:00.418     0    45        54             29        35   \n",
       "1  2021-0324 17:09:01.412     1    53        46             32        35   \n",
       "2  2021-0324 17:09:02.493     2    45        37             35        33   \n",
       "3  2021-0324 17:09:03.468     3    52        36             36        28   \n",
       "4  2021-0324 17:09:04.460     4    55        35             34        22   \n",
       "\n",
       "   Stress  Noise  Comment Comment2  \n",
       "0      77      0      NaN      NaN  \n",
       "1      72      0      NaN      NaN  \n",
       "2      82      0      NaN      NaN  \n",
       "3      71      0      NaN      NaN  \n",
       "4      51      0      NaN      NaN  "
      ]
     },
     "execution_count": 21,
     "metadata": {},
     "output_type": "execute_result"
    }
   ],
   "source": [
    "df = pd.read_csv('Kansai data-20210530/20210324_1811_KANSEI_test.csv')\n",
    "df.head()"
   ]
  },
  {
   "cell_type": "code",
   "execution_count": 22,
   "metadata": {
    "colab": {
     "base_uri": "https://localhost:8080/",
     "height": 203
    },
    "id": "vcyPvbZmVY55",
    "outputId": "8a9d2f33-18f7-4ef4-8826-70e26e104be1",
    "scrolled": false
   },
   "outputs": [
    {
     "data": {
      "text/html": [
       "<div>\n",
       "<style scoped>\n",
       "    .dataframe tbody tr th:only-of-type {\n",
       "        vertical-align: middle;\n",
       "    }\n",
       "\n",
       "    .dataframe tbody tr th {\n",
       "        vertical-align: top;\n",
       "    }\n",
       "\n",
       "    .dataframe thead th {\n",
       "        text-align: right;\n",
       "    }\n",
       "</style>\n",
       "<table border=\"1\" class=\"dataframe\">\n",
       "  <thead>\n",
       "    <tr style=\"text-align: right;\">\n",
       "      <th></th>\n",
       "      <th>Timestamp</th>\n",
       "      <th>Time</th>\n",
       "      <th>Like</th>\n",
       "      <th>Interest</th>\n",
       "      <th>Concentration</th>\n",
       "      <th>Calmness</th>\n",
       "      <th>Stress</th>\n",
       "      <th>Noise</th>\n",
       "    </tr>\n",
       "  </thead>\n",
       "  <tbody>\n",
       "    <tr>\n",
       "      <td>0</td>\n",
       "      <td>2021-0324 17:09:00.418</td>\n",
       "      <td>0</td>\n",
       "      <td>45</td>\n",
       "      <td>54</td>\n",
       "      <td>29</td>\n",
       "      <td>35</td>\n",
       "      <td>77</td>\n",
       "      <td>0</td>\n",
       "    </tr>\n",
       "    <tr>\n",
       "      <td>1</td>\n",
       "      <td>2021-0324 17:09:01.412</td>\n",
       "      <td>1</td>\n",
       "      <td>53</td>\n",
       "      <td>46</td>\n",
       "      <td>32</td>\n",
       "      <td>35</td>\n",
       "      <td>72</td>\n",
       "      <td>0</td>\n",
       "    </tr>\n",
       "    <tr>\n",
       "      <td>2</td>\n",
       "      <td>2021-0324 17:09:02.493</td>\n",
       "      <td>2</td>\n",
       "      <td>45</td>\n",
       "      <td>37</td>\n",
       "      <td>35</td>\n",
       "      <td>33</td>\n",
       "      <td>82</td>\n",
       "      <td>0</td>\n",
       "    </tr>\n",
       "    <tr>\n",
       "      <td>3</td>\n",
       "      <td>2021-0324 17:09:03.468</td>\n",
       "      <td>3</td>\n",
       "      <td>52</td>\n",
       "      <td>36</td>\n",
       "      <td>36</td>\n",
       "      <td>28</td>\n",
       "      <td>71</td>\n",
       "      <td>0</td>\n",
       "    </tr>\n",
       "    <tr>\n",
       "      <td>4</td>\n",
       "      <td>2021-0324 17:09:04.460</td>\n",
       "      <td>4</td>\n",
       "      <td>55</td>\n",
       "      <td>35</td>\n",
       "      <td>34</td>\n",
       "      <td>22</td>\n",
       "      <td>51</td>\n",
       "      <td>0</td>\n",
       "    </tr>\n",
       "  </tbody>\n",
       "</table>\n",
       "</div>"
      ],
      "text/plain": [
       "                Timestamp  Time  Like  Interest  Concentration  Calmness  \\\n",
       "0  2021-0324 17:09:00.418     0    45        54             29        35   \n",
       "1  2021-0324 17:09:01.412     1    53        46             32        35   \n",
       "2  2021-0324 17:09:02.493     2    45        37             35        33   \n",
       "3  2021-0324 17:09:03.468     3    52        36             36        28   \n",
       "4  2021-0324 17:09:04.460     4    55        35             34        22   \n",
       "\n",
       "   Stress  Noise  \n",
       "0      77      0  \n",
       "1      72      0  \n",
       "2      82      0  \n",
       "3      71      0  \n",
       "4      51      0  "
      ]
     },
     "execution_count": 22,
     "metadata": {},
     "output_type": "execute_result"
    }
   ],
   "source": [
    "df = df.drop(['Comment'], axis = 1)\n",
    "df = df.drop(['Comment2'],axis = 1)\n",
    "df.head()"
   ]
  },
  {
   "cell_type": "code",
   "execution_count": 23,
   "metadata": {
    "id": "c5PyY6hhVY55"
   },
   "outputs": [],
   "source": [
    "df.set_index('Timestamp',inplace=True)"
   ]
  },
  {
   "cell_type": "code",
   "execution_count": 24,
   "metadata": {
    "colab": {
     "base_uri": "https://localhost:8080/",
     "height": 279
    },
    "id": "7iK7diD2vcFy",
    "outputId": "a223e412-7da7-457f-ffca-c95d8576b18a"
   },
   "outputs": [
    {
     "data": {
      "image/png": "[encoded data removed]",
      "text/plain": [
       "<Figure size 432x288 with 1 Axes>"
      ]
     },
     "metadata": {
      "needs_background": "light"
     },
     "output_type": "display_data"
    }
   ],
   "source": [
    "ax = sns.countplot(x=\"Noise\", data=df)"
   ]
  },
  {
   "cell_type": "code",
   "execution_count": 25,
   "metadata": {
    "colab": {
     "base_uri": "https://localhost:8080/",
     "height": 234
    },
    "id": "vFRjjR4BVY55",
    "outputId": "199000c6-52fa-4a62-b45d-773b09cc9323"
   },
   "outputs": [
    {
     "data": {
      "text/html": [
       "<div>\n",
       "<style scoped>\n",
       "    .dataframe tbody tr th:only-of-type {\n",
       "        vertical-align: middle;\n",
       "    }\n",
       "\n",
       "    .dataframe tbody tr th {\n",
       "        vertical-align: top;\n",
       "    }\n",
       "\n",
       "    .dataframe thead th {\n",
       "        text-align: right;\n",
       "    }\n",
       "</style>\n",
       "<table border=\"1\" class=\"dataframe\">\n",
       "  <thead>\n",
       "    <tr style=\"text-align: right;\">\n",
       "      <th></th>\n",
       "      <th>Time</th>\n",
       "      <th>Like</th>\n",
       "      <th>Interest</th>\n",
       "      <th>Concentration</th>\n",
       "      <th>Calmness</th>\n",
       "      <th>Stress</th>\n",
       "      <th>Noise</th>\n",
       "    </tr>\n",
       "    <tr>\n",
       "      <th>Timestamp</th>\n",
       "      <th></th>\n",
       "      <th></th>\n",
       "      <th></th>\n",
       "      <th></th>\n",
       "      <th></th>\n",
       "      <th></th>\n",
       "      <th></th>\n",
       "    </tr>\n",
       "  </thead>\n",
       "  <tbody>\n",
       "    <tr>\n",
       "      <td>2021-0324 17:09:00.418</td>\n",
       "      <td>0</td>\n",
       "      <td>45</td>\n",
       "      <td>54</td>\n",
       "      <td>29</td>\n",
       "      <td>35</td>\n",
       "      <td>77</td>\n",
       "      <td>0</td>\n",
       "    </tr>\n",
       "    <tr>\n",
       "      <td>2021-0324 17:09:01.412</td>\n",
       "      <td>1</td>\n",
       "      <td>53</td>\n",
       "      <td>46</td>\n",
       "      <td>32</td>\n",
       "      <td>35</td>\n",
       "      <td>72</td>\n",
       "      <td>0</td>\n",
       "    </tr>\n",
       "    <tr>\n",
       "      <td>2021-0324 17:09:02.493</td>\n",
       "      <td>2</td>\n",
       "      <td>45</td>\n",
       "      <td>37</td>\n",
       "      <td>35</td>\n",
       "      <td>33</td>\n",
       "      <td>82</td>\n",
       "      <td>0</td>\n",
       "    </tr>\n",
       "    <tr>\n",
       "      <td>2021-0324 17:09:03.468</td>\n",
       "      <td>3</td>\n",
       "      <td>52</td>\n",
       "      <td>36</td>\n",
       "      <td>36</td>\n",
       "      <td>28</td>\n",
       "      <td>71</td>\n",
       "      <td>0</td>\n",
       "    </tr>\n",
       "    <tr>\n",
       "      <td>2021-0324 17:09:04.460</td>\n",
       "      <td>4</td>\n",
       "      <td>55</td>\n",
       "      <td>35</td>\n",
       "      <td>34</td>\n",
       "      <td>22</td>\n",
       "      <td>51</td>\n",
       "      <td>0</td>\n",
       "    </tr>\n",
       "  </tbody>\n",
       "</table>\n",
       "</div>"
      ],
      "text/plain": [
       "                        Time  Like  Interest  Concentration  Calmness  Stress  \\\n",
       "Timestamp                                                                       \n",
       "2021-0324 17:09:00.418     0    45        54             29        35      77   \n",
       "2021-0324 17:09:01.412     1    53        46             32        35      72   \n",
       "2021-0324 17:09:02.493     2    45        37             35        33      82   \n",
       "2021-0324 17:09:03.468     3    52        36             36        28      71   \n",
       "2021-0324 17:09:04.460     4    55        35             34        22      51   \n",
       "\n",
       "                        Noise  \n",
       "Timestamp                      \n",
       "2021-0324 17:09:00.418      0  \n",
       "2021-0324 17:09:01.412      0  \n",
       "2021-0324 17:09:02.493      0  \n",
       "2021-0324 17:09:03.468      0  \n",
       "2021-0324 17:09:04.460      0  "
      ]
     },
     "execution_count": 25,
     "metadata": {},
     "output_type": "execute_result"
    }
   ],
   "source": [
    "df.head()"
   ]
  },
  {
   "cell_type": "code",
   "execution_count": 26,
   "metadata": {
    "id": "OYA4g7UNz353"
   },
   "outputs": [],
   "source": [
    "columns_to_be_encoded=df.columns"
   ]
  },
  {
   "cell_type": "code",
   "execution_count": 27,
   "metadata": {
    "colab": {
     "base_uri": "https://localhost:8080/"
    },
    "id": "4LFHCzWmz6xN",
    "outputId": "2d64d3c0-8458-477a-8331-c3814a3a04af"
   },
   "outputs": [
    {
     "data": {
      "text/plain": [
       "Index(['Time', 'Like', 'Interest', 'Concentration', 'Calmness', 'Stress',\n",
       "       'Noise'],\n",
       "      dtype='object')"
      ]
     },
     "execution_count": 27,
     "metadata": {},
     "output_type": "execute_result"
    }
   ],
   "source": [
    "df.columns"
   ]
  },
  {
   "cell_type": "code",
   "execution_count": 28,
   "metadata": {
    "colab": {
     "base_uri": "https://localhost:8080/"
    },
    "id": "0hcEP1bAz_zl",
    "outputId": "8070a69a-1517-4c6b-e0a6-c8db2335c75d"
   },
   "outputs": [
    {
     "data": {
      "text/plain": [
       "['Time', 'Like', 'Interest', 'Concentration', 'Calmness', 'Stress', 'Noise']"
      ]
     },
     "execution_count": 28,
     "metadata": {},
     "output_type": "execute_result"
    }
   ],
   "source": [
    "list(columns_to_be_encoded)"
   ]
  },
  {
   "cell_type": "code",
   "execution_count": 29,
   "metadata": {
    "colab": {
     "base_uri": "https://localhost:8080/"
    },
    "id": "h_F9bYww0nA-",
    "outputId": "7bb4dd54-1a87-4d93-d649-b064712d1e63"
   },
   "outputs": [
    {
     "data": {
      "text/plain": [
       "1    3447\n",
       "0    3447\n",
       "Name: Noise, dtype: int64"
      ]
     },
     "execution_count": 29,
     "metadata": {},
     "output_type": "execute_result"
    }
   ],
   "source": [
    "df_majority = df[df['Noise']==0]\n",
    "df_minority = df[df['Noise']==1]\n",
    "df_minority_oversampled = resample(df_minority, replace=True, n_samples=3447, random_state=0)\n",
    "df_oversampled = pd.concat([df_majority, df_minority_oversampled])\n",
    "df_oversampled['Noise'].value_counts()"
   ]
  },
  {
   "cell_type": "code",
   "execution_count": 30,
   "metadata": {
    "id": "-Zch9GYHVY55",
    "scrolled": true
   },
   "outputs": [],
   "source": [
    "X = df_oversampled.iloc[:,:-1].values"
   ]
  },
  {
   "cell_type": "code",
   "execution_count": 31,
   "metadata": {
    "colab": {
     "base_uri": "https://localhost:8080/"
    },
    "id": "_5pH9sSaVY56",
    "outputId": "23f4f0a4-6396-4a40-ce8b-c53467deee1d",
    "scrolled": true
   },
   "outputs": [
    {
     "data": {
      "text/plain": [
       "array([[   0,   45,   54,   29,   35,   77],\n",
       "       [   1,   53,   46,   32,   35,   72],\n",
       "       [   2,   45,   37,   35,   33,   82],\n",
       "       ...,\n",
       "       [3544,   44,   39,   40,   42,   53],\n",
       "       [ 275,   63,   35,   29,   51,   57],\n",
       "       [ 882,   64,   44,   44,   18,   65]], dtype=int64)"
      ]
     },
     "execution_count": 31,
     "metadata": {},
     "output_type": "execute_result"
    }
   ],
   "source": [
    "X"
   ]
  },
  {
   "cell_type": "code",
   "execution_count": 32,
   "metadata": {
    "colab": {
     "base_uri": "https://localhost:8080/"
    },
    "id": "Qz3q8JjdVY56",
    "outputId": "e00de26b-cbab-4c1e-e29e-5fe7d4ba5701",
    "scrolled": true
   },
   "outputs": [
    {
     "data": {
      "text/plain": [
       "array([[0],\n",
       "       [0],\n",
       "       [0],\n",
       "       ...,\n",
       "       [1],\n",
       "       [1],\n",
       "       [1]], dtype=int64)"
      ]
     },
     "execution_count": 32,
     "metadata": {},
     "output_type": "execute_result"
    }
   ],
   "source": [
    "y = df_oversampled.iloc[:,6:7].values\n",
    "y"
   ]
  },
  {
   "cell_type": "code",
   "execution_count": 33,
   "metadata": {
    "id": "0DQK2DgR16ys"
   },
   "outputs": [],
   "source": [
    "X_train, X_val_and_test, Y_train, Y_val_and_test = train_test_split(X, y, test_size=0.3)"
   ]
  },
  {
   "cell_type": "code",
   "execution_count": 34,
   "metadata": {
    "id": "T6xk04Uj1_Im"
   },
   "outputs": [],
   "source": [
    "X_val, X_test, Y_val, Y_test = train_test_split(X_val_and_test, Y_val_and_test, test_size=0.5)"
   ]
  },
  {
   "cell_type": "code",
   "execution_count": 35,
   "metadata": {
    "id": "gZc0Lopn163m"
   },
   "outputs": [
    {
     "name": "stdout",
     "output_type": "stream",
     "text": [
      "WARNING:tensorflow:From C:\\Users\\arabtech\\Anaconda3\\lib\\site-packages\\tensorflow\\python\\ops\\init_ops.py:1251: calling VarianceScaling.__init__ (from tensorflow.python.ops.init_ops) with dtype is deprecated and will be removed in a future version.\n",
      "Instructions for updating:\n",
      "Call initializer instance with the dtype argument instead of passing it to the constructor\n"
     ]
    }
   ],
   "source": [
    "model = Sequential([\n",
    "    Dense(32, activation='relu', input_shape=(6,)),\n",
    "    Dense(32, activation='relu'),\n",
    "    Dense(1, activation='sigmoid'),\n",
    "])"
   ]
  },
  {
   "cell_type": "code",
   "execution_count": 36,
   "metadata": {
    "id": "4KvzAGVy166B"
   },
   "outputs": [
    {
     "name": "stdout",
     "output_type": "stream",
     "text": [
      "WARNING:tensorflow:From C:\\Users\\arabtech\\Anaconda3\\lib\\site-packages\\tensorflow\\python\\ops\\nn_impl.py:180: add_dispatch_support.<locals>.wrapper (from tensorflow.python.ops.array_ops) is deprecated and will be removed in a future version.\n",
      "Instructions for updating:\n",
      "Use tf.where in 2.0, which has the same broadcast rule as np.where\n"
     ]
    }
   ],
   "source": [
    "model.compile(optimizer='sgd',\n",
    "              loss='binary_crossentropy',\n",
    "              metrics=[keras.metrics.BinaryAccuracy(name='accuracy'),\n",
    "              keras.metrics.Precision(name='precision'),\n",
    "              keras.metrics.Recall(name='recall'),\n",
    "               tf.keras.metrics.AUC(name='auc')])"
   ]
  },
  {
   "cell_type": "code",
   "execution_count": 37,
   "metadata": {
    "colab": {
     "base_uri": "https://localhost:8080/"
    },
    "id": "zt6y2lBp169Y",
    "outputId": "7d44e385-37a7-4bf6-e899-b3548034a5cb",
    "scrolled": false
   },
   "outputs": [
    {
     "name": "stdout",
     "output_type": "stream",
     "text": [
      "Train on 4825 samples, validate on 1034 samples\n",
      "Epoch 1/20\n",
      "4825/4825 [==============================] - 1s 219us/sample - loss: 350.7952 - accuracy: 0.5101 - precision: 0.5029 - recall: 0.9209 - auc: 0.5175 - val_loss: 0.6871 - val_accuracy: 0.5648 - val_precision: 0.5597 - val_recall: 0.9736 - val_auc: 0.5204\n",
      "Epoch 2/20\n",
      "4825/4825 [==============================] - 1s 126us/sample - loss: 0.6867 - accuracy: 0.5144 - precision: 0.5050 - recall: 0.9699 - auc: 0.5160 - val_loss: 0.6871 - val_accuracy: 0.5658 - val_precision: 0.5599 - val_recall: 0.9789 - val_auc: 0.5207\n",
      "Epoch 3/20\n",
      "4825/4825 [==============================] - 1s 133us/sample - loss: 0.6851 - accuracy: 0.5142 - precision: 0.5049 - recall: 0.9703 - auc: 0.5177 - val_loss: 0.6868 - val_accuracy: 0.5648 - val_precision: 0.5594 - val_recall: 0.9789 - val_auc: 0.5186\n",
      "Epoch 4/20\n",
      "4825/4825 [==============================] - 1s 130us/sample - loss: 0.6841 - accuracy: 0.5132 - precision: 0.5043 - recall: 0.9736 - auc: 0.5107 - val_loss: 0.6856 - val_accuracy: 0.5609 - val_precision: 0.5571 - val_recall: 0.9789 - val_auc: 0.5154\n",
      "Epoch 5/20\n",
      "4825/4825 [==============================] - 1s 130us/sample - loss: 0.6816 - accuracy: 0.5109 - precision: 0.5031 - recall: 0.9766 - auc: 0.5043 - val_loss: 0.6827 - val_accuracy: 0.5600 - val_precision: 0.5559 - val_recall: 0.9894 - val_auc: 0.5132\n",
      "Epoch 6/20\n",
      "4825/4825 [==============================] - 1s 139us/sample - loss: 0.6790 - accuracy: 0.5148 - precision: 0.5051 - recall: 0.9900 - auc: 0.5173 - val_loss: 0.6815 - val_accuracy: 0.5638 - val_precision: 0.5576 - val_recall: 0.9965 - val_auc: 0.5165\n",
      "Epoch 7/20\n",
      "4825/4825 [==============================] - 1s 130us/sample - loss: 0.6786 - accuracy: 0.5171 - precision: 0.5063 - recall: 0.9950 - auc: 0.5196 - val_loss: 0.6815 - val_accuracy: 0.5619 - val_precision: 0.5568 - val_recall: 0.9930 - val_auc: 0.5148\n",
      "Epoch 8/20\n",
      "4825/4825 [==============================] - 1s 125us/sample - loss: 0.6783 - accuracy: 0.5167 - precision: 0.5061 - recall: 0.9941 - auc: 0.5124 - val_loss: 0.6811 - val_accuracy: 0.5638 - val_precision: 0.5576 - val_recall: 0.9965 - val_auc: 0.5165\n",
      "Epoch 9/20\n",
      "4825/4825 [==============================] - 1s 129us/sample - loss: 0.6783 - accuracy: 0.5177 - precision: 0.5066 - recall: 0.9958 - auc: 0.5212 - val_loss: 0.6811 - val_accuracy: 0.5638 - val_precision: 0.5576 - val_recall: 0.9965 - val_auc: 0.5165\n",
      "Epoch 10/20\n",
      "4825/4825 [==============================] - 1s 130us/sample - loss: 0.6781 - accuracy: 0.5177 - precision: 0.5066 - recall: 0.9962 - auc: 0.5207 - val_loss: 0.6811 - val_accuracy: 0.5638 - val_precision: 0.5576 - val_recall: 0.9965 - val_auc: 0.5165\n",
      "Epoch 11/20\n",
      "4825/4825 [==============================] - 1s 136us/sample - loss: 0.6779 - accuracy: 0.5177 - precision: 0.5066 - recall: 0.9962 - auc: 0.5165 - val_loss: 0.6811 - val_accuracy: 0.5638 - val_precision: 0.5576 - val_recall: 0.9965 - val_auc: 0.5165\n",
      "Epoch 12/20\n",
      "4825/4825 [==============================] - 1s 128us/sample - loss: 0.6778 - accuracy: 0.5175 - precision: 0.5065 - recall: 0.9954 - auc: 0.5131 - val_loss: 0.6808 - val_accuracy: 0.5638 - val_precision: 0.5576 - val_recall: 0.9965 - val_auc: 0.5165\n",
      "Epoch 13/20\n",
      "4825/4825 [==============================] - 1s 153us/sample - loss: 0.6779 - accuracy: 0.5177 - precision: 0.5066 - recall: 0.9962 - auc: 0.5202 - val_loss: 0.6809 - val_accuracy: 0.5638 - val_precision: 0.5576 - val_recall: 0.9965 - val_auc: 0.5165\n",
      "Epoch 14/20\n",
      "4825/4825 [==============================] - 1s 144us/sample - loss: 0.6775 - accuracy: 0.5181 - precision: 0.5068 - recall: 0.9971 - auc: 0.5161 - val_loss: 0.6811 - val_accuracy: 0.5638 - val_precision: 0.5576 - val_recall: 0.9965 - val_auc: 0.5165\n",
      "Epoch 15/20\n",
      "4825/4825 [==============================] - 1s 121us/sample - loss: 0.6773 - accuracy: 0.5183 - precision: 0.5069 - recall: 0.9971 - auc: 0.5172 - val_loss: 0.6816 - val_accuracy: 0.5619 - val_precision: 0.5568 - val_recall: 0.9930 - val_auc: 0.5148\n",
      "Epoch 16/20\n",
      "4825/4825 [==============================] - 1s 129us/sample - loss: 0.6772 - accuracy: 0.5185 - precision: 0.5070 - recall: 0.9958 - auc: 0.5206 - val_loss: 0.6817 - val_accuracy: 0.5629 - val_precision: 0.5573 - val_recall: 0.9930 - val_auc: 0.5159\n",
      "Epoch 17/20\n",
      "4825/4825 [==============================] - 1s 139us/sample - loss: 0.6773 - accuracy: 0.5188 - precision: 0.5071 - recall: 0.9958 - auc: 0.5160 - val_loss: 0.6805 - val_accuracy: 0.5658 - val_precision: 0.5585 - val_recall: 1.0000 - val_auc: 0.5182\n",
      "Epoch 18/20\n",
      "4825/4825 [==============================] - 1s 197us/sample - loss: 0.6770 - accuracy: 0.5188 - precision: 0.5071 - recall: 0.9979 - auc: 0.5219 - val_loss: 0.6805 - val_accuracy: 0.5638 - val_precision: 0.5576 - val_recall: 0.9965 - val_auc: 0.5165\n",
      "Epoch 19/20\n",
      "4825/4825 [==============================] - 1s 178us/sample - loss: 0.6768 - accuracy: 0.5190 - precision: 0.5072 - recall: 0.9979 - auc: 0.5168 - val_loss: 0.6810 - val_accuracy: 0.5658 - val_precision: 0.5587 - val_recall: 0.9965 - val_auc: 0.5187\n",
      "Epoch 20/20\n",
      "4825/4825 [==============================] - 1s 184us/sample - loss: 0.6769 - accuracy: 0.5190 - precision: 0.5072 - recall: 0.9962 - auc: 0.5135 - val_loss: 0.6804 - val_accuracy: 0.5638 - val_precision: 0.5576 - val_recall: 0.9965 - val_auc: 0.5165\n"
     ]
    }
   ],
   "source": [
    "hist = model.fit(X_train, Y_train,\n",
    "          batch_size=32, epochs=20,\n",
    "          validation_data=(X_val, Y_val),\n",
    "          )"
   ]
  },
  {
   "cell_type": "code",
   "execution_count": 38,
   "metadata": {
    "colab": {
     "base_uri": "https://localhost:8080/"
    },
    "id": "lG2JQbo1RMb9",
    "outputId": "dd91845d-9d79-4a45-dd43-4ab9739d2237"
   },
   "outputs": [
    {
     "name": "stdout",
     "output_type": "stream",
     "text": [
      "Model: \"sequential\"\n",
      "_________________________________________________________________\n",
      "Layer (type)                 Output Shape              Param #   \n",
      "=================================================================\n",
      "dense (Dense)                (None, 32)                224       \n",
      "_________________________________________________________________\n",
      "dense_1 (Dense)              (None, 32)                1056      \n",
      "_________________________________________________________________\n",
      "dense_2 (Dense)              (None, 1)                 33        \n",
      "=================================================================\n",
      "Total params: 1,313\n",
      "Trainable params: 1,313\n",
      "Non-trainable params: 0\n",
      "_________________________________________________________________\n"
     ]
    }
   ],
   "source": [
    "model.summary()"
   ]
  },
  {
   "cell_type": "code",
   "execution_count": 39,
   "metadata": {
    "colab": {
     "base_uri": "https://localhost:8080/"
    },
    "id": "Pvj8lnrF16-_",
    "outputId": "d83b3ceb-4f2c-4389-ca24-0428bb0e3dbc",
    "scrolled": true
   },
   "outputs": [
    {
     "name": "stdout",
     "output_type": "stream",
     "text": [
      "1035/1035 [==============================] - 0s 119us/sample - loss: 0.6776 - accuracy: 0.4957 - precision: 0.4841 - recall: 0.9959 - auc: 0.5210\n"
     ]
    },
    {
     "data": {
      "text/plain": [
       "0.49565217"
      ]
     },
     "execution_count": 39,
     "metadata": {},
     "output_type": "execute_result"
    }
   ],
   "source": [
    "model.evaluate(X_test, Y_test)[1]"
   ]
  },
  {
   "cell_type": "code",
   "execution_count": 40,
   "metadata": {
    "colab": {
     "base_uri": "https://localhost:8080/",
     "height": 295
    },
    "id": "JN6qRraPUH16",
    "outputId": "6385d2fd-36cc-429d-af6b-adecc644896f"
   },
   "outputs": [
    {
     "data": {
      "image/png": "[encoded data removed]",
      "text/plain": [
       "<Figure size 432x288 with 1 Axes>"
      ]
     },
     "metadata": {
      "needs_background": "light"
     },
     "output_type": "display_data"
    }
   ],
   "source": [
    "plt.plot(hist.history['loss'])\n",
    "plt.plot(hist.history['val_loss'])\n",
    "plt.title('Model loss')\n",
    "plt.ylabel('Loss')\n",
    "plt.xlabel('Epoch')\n",
    "plt.legend(['Train', 'Val'], loc='upper right')\n",
    "plt.show()"
   ]
  },
  {
   "cell_type": "code",
   "execution_count": 41,
   "metadata": {
    "colab": {
     "base_uri": "https://localhost:8080/",
     "height": 295
    },
    "id": "vFHo8_eaURXa",
    "outputId": "7c0acf79-51f4-4734-b4e0-c7e2be87afea"
   },
   "outputs": [
    {
     "data": {
      "image/png": "[encoded data removed]",
      "text/plain": [
       "<Figure size 432x288 with 1 Axes>"
      ]
     },
     "metadata": {
      "needs_background": "light"
     },
     "output_type": "display_data"
    }
   ],
   "source": [
    "plt.plot(hist.history['accuracy'])\n",
    "plt.plot(hist.history['val_accuracy'])\n",
    "plt.title('Model accuracy')\n",
    "plt.ylabel('Accuracy')\n",
    "plt.xlabel('Epoch')\n",
    "plt.legend(['Train', 'Val'], loc='lower right')\n",
    "plt.show()"
   ]
  },
  {
   "cell_type": "code",
   "execution_count": 42,
   "metadata": {
    "colab": {
     "base_uri": "https://localhost:8080/"
    },
    "id": "b0KmMDUs3XDL",
    "outputId": "fa8959fc-7e64-428c-938d-8e32fac2a093"
   },
   "outputs": [
    {
     "name": "stdout",
     "output_type": "stream",
     "text": [
      "Train on 4825 samples, validate on 1034 samples\n",
      "Epoch 1/25\n",
      "4825/4825 [==============================] - 2s 344us/sample - loss: 4.4288 - accuracy: 0.5314 - precision: 0.5268 - recall: 0.5274 - auc: 0.5324 - val_loss: 6.2892 - val_accuracy: 0.4623 - val_precision: 1.0000 - val_recall: 0.0211 - val_auc: 0.5871\n",
      "Epoch 2/25\n",
      "4825/4825 [==============================] - 1s 233us/sample - loss: 1.2499 - accuracy: 0.5774 - precision: 0.5709 - recall: 0.5898 - auc: 0.5723 - val_loss: 0.6907 - val_accuracy: 0.5822 - val_precision: 0.5708 - val_recall: 0.9648 - val_auc: 0.6800\n",
      "Epoch 3/25\n",
      "4825/4825 [==============================] - 1s 233us/sample - loss: 1.3345 - accuracy: 0.5747 - precision: 0.5676 - recall: 0.5923 - auc: 0.5793 - val_loss: 0.9027 - val_accuracy: 0.5822 - val_precision: 0.5704 - val_recall: 0.9701 - val_auc: 0.6947\n",
      "Epoch 4/25\n",
      "4825/4825 [==============================] - 1s 231us/sample - loss: 0.7830 - accuracy: 0.6025 - precision: 0.5903 - recall: 0.6446 - auc: 0.6261 - val_loss: 0.7556 - val_accuracy: 0.5803 - val_precision: 0.5669 - val_recall: 1.0000 - val_auc: 0.6911\n",
      "Epoch 5/25\n",
      "4825/4825 [==============================] - 1s 233us/sample - loss: 0.7346 - accuracy: 0.6232 - precision: 0.6103 - recall: 0.6614 - auc: 0.6582 - val_loss: 0.7438 - val_accuracy: 0.5870 - val_precision: 0.8730 - val_recall: 0.2905 - val_auc: 0.7399\n",
      "Epoch 6/25\n",
      "4825/4825 [==============================] - 1s 233us/sample - loss: 0.7399 - accuracy: 0.6321 - precision: 0.6199 - recall: 0.6643 - auc: 0.6680 - val_loss: 0.5597 - val_accuracy: 0.7186 - val_precision: 0.7832 - val_recall: 0.6743 - val_auc: 0.7999\n",
      "Epoch 7/25\n",
      "4825/4825 [==============================] - 1s 234us/sample - loss: 0.6833 - accuracy: 0.6444 - precision: 0.6303 - recall: 0.6815 - auc: 0.6939 - val_loss: 0.5855 - val_accuracy: 0.6867 - val_precision: 0.7933 - val_recall: 0.5810 - val_auc: 0.7819\n",
      "Epoch 8/25\n",
      "4825/4825 [==============================] - 1s 215us/sample - loss: 0.6466 - accuracy: 0.6558 - precision: 0.6461 - recall: 0.6739 - auc: 0.7095 - val_loss: 0.5547 - val_accuracy: 0.6983 - val_precision: 0.6916 - val_recall: 0.8134 - val_auc: 0.7947\n",
      "Epoch 9/25\n",
      "4825/4825 [==============================] - 1s 226us/sample - loss: 0.6117 - accuracy: 0.6821 - precision: 0.6700 - recall: 0.7053 - auc: 0.7329 - val_loss: 0.5615 - val_accuracy: 0.7157 - val_precision: 0.7655 - val_recall: 0.6954 - val_auc: 0.7946\n",
      "Epoch 10/25\n",
      "4825/4825 [==============================] - 1s 227us/sample - loss: 0.5891 - accuracy: 0.6817 - precision: 0.6707 - recall: 0.7015 - auc: 0.7528 - val_loss: 0.5978 - val_accuracy: 0.6673 - val_precision: 0.7692 - val_recall: 0.5634 - val_auc: 0.7673\n",
      "Epoch 11/25\n",
      "4825/4825 [==============================] - 1s 207us/sample - loss: 0.6148 - accuracy: 0.6781 - precision: 0.6706 - recall: 0.6877 - auc: 0.7357 - val_loss: 0.6121 - val_accuracy: 0.6431 - val_precision: 0.7612 - val_recall: 0.5106 - val_auc: 0.7535\n",
      "Epoch 12/25\n",
      "4825/4825 [==============================] - 1s 200us/sample - loss: 0.6765 - accuracy: 0.6522 - precision: 0.6454 - recall: 0.6605 - auc: 0.7004 - val_loss: 0.6022 - val_accuracy: 0.6325 - val_precision: 0.6880 - val_recall: 0.6056 - val_auc: 0.7311\n",
      "Epoch 13/25\n",
      "4825/4825 [==============================] - 1s 230us/sample - loss: 0.6427 - accuracy: 0.6591 - precision: 0.6420 - recall: 0.7041 - auc: 0.7115 - val_loss: 0.5380 - val_accuracy: 0.7418 - val_precision: 0.7393 - val_recall: 0.8187 - val_auc: 0.8024\n",
      "Epoch 14/25\n",
      "4825/4825 [==============================] - 1s 222us/sample - loss: 0.5984 - accuracy: 0.6808 - precision: 0.6732 - recall: 0.6907 - auc: 0.7443 - val_loss: 0.5437 - val_accuracy: 0.7418 - val_precision: 0.7204 - val_recall: 0.8662 - val_auc: 0.7974\n",
      "Epoch 15/25\n",
      "4825/4825 [==============================] - 1s 199us/sample - loss: 0.6120 - accuracy: 0.6798 - precision: 0.6665 - recall: 0.7070 - auc: 0.7322 - val_loss: 0.7072 - val_accuracy: 0.6161 - val_precision: 0.8251 - val_recall: 0.3820 - val_auc: 0.7838\n",
      "Epoch 16/25\n",
      "4825/4825 [==============================] - 1s 197us/sample - loss: 0.5733 - accuracy: 0.7028 - precision: 0.6884 - recall: 0.7304 - auc: 0.7666 - val_loss: 0.7585 - val_accuracy: 0.6402 - val_precision: 0.8101 - val_recall: 0.4507 - val_auc: 0.7310\n",
      "Epoch 17/25\n",
      "4825/4825 [==============================] - 1s 195us/sample - loss: 0.5935 - accuracy: 0.6860 - precision: 0.6747 - recall: 0.7066 - auc: 0.7467 - val_loss: 0.6373 - val_accuracy: 0.6344 - val_precision: 0.8209 - val_recall: 0.4278 - val_auc: 0.7779\n",
      "Epoch 18/25\n",
      "4825/4825 [==============================] - 1s 193us/sample - loss: 0.5629 - accuracy: 0.7042 - precision: 0.6926 - recall: 0.7242 - auc: 0.7768 - val_loss: 0.5444 - val_accuracy: 0.7099 - val_precision: 0.7815 - val_recall: 0.6549 - val_auc: 0.8063\n",
      "Epoch 19/25\n",
      "4825/4825 [==============================] - 1s 194us/sample - loss: 0.5757 - accuracy: 0.6910 - precision: 0.6799 - recall: 0.7103 - auc: 0.7653 - val_loss: 0.5650 - val_accuracy: 0.6847 - val_precision: 0.8168 - val_recall: 0.5493 - val_auc: 0.8199\n",
      "Epoch 20/25\n",
      "4825/4825 [==============================] - 1s 211us/sample - loss: 0.5712 - accuracy: 0.6970 - precision: 0.6886 - recall: 0.7082 - auc: 0.7696 - val_loss: 0.5326 - val_accuracy: 0.7263 - val_precision: 0.7767 - val_recall: 0.7042 - val_auc: 0.8106\n",
      "Epoch 21/25\n",
      "4825/4825 [==============================] - 1s 195us/sample - loss: 0.5717 - accuracy: 0.7063 - precision: 0.6924 - recall: 0.7321 - auc: 0.7690 - val_loss: 0.5305 - val_accuracy: 0.7466 - val_precision: 0.7192 - val_recall: 0.8838 - val_auc: 0.8115\n",
      "Epoch 22/25\n",
      "4825/4825 [==============================] - 1s 196us/sample - loss: 0.5827 - accuracy: 0.6941 - precision: 0.6878 - recall: 0.6999 - auc: 0.7616 - val_loss: 0.5468 - val_accuracy: 0.7573 - val_precision: 0.7577 - val_recall: 0.8204 - val_auc: 0.7958\n",
      "Epoch 23/25\n",
      "4825/4825 [==============================] - 1s 195us/sample - loss: 0.5803 - accuracy: 0.6916 - precision: 0.6831 - recall: 0.7036 - auc: 0.7617 - val_loss: 0.5448 - val_accuracy: 0.7253 - val_precision: 0.7011 - val_recall: 0.8715 - val_auc: 0.8104\n",
      "Epoch 24/25\n",
      "4825/4825 [==============================] - 1s 197us/sample - loss: 0.5675 - accuracy: 0.7018 - precision: 0.6920 - recall: 0.7166 - auc: 0.7724 - val_loss: 0.5205 - val_accuracy: 0.7437 - val_precision: 0.7306 - val_recall: 0.8451 - val_auc: 0.8138\n",
      "Epoch 25/25\n",
      "4825/4825 [==============================] - 1s 213us/sample - loss: 0.5647 - accuracy: 0.7020 - precision: 0.6923 - recall: 0.7166 - auc: 0.7763 - val_loss: 0.5939 - val_accuracy: 0.7137 - val_precision: 0.7305 - val_recall: 0.7588 - val_auc: 0.7494\n"
     ]
    }
   ],
   "source": [
    "model_2 = Sequential([\n",
    "    Dense(100, activation='relu', input_shape=(6,)),\n",
    "    Dense(100, activation='relu'),\n",
    "    Dense(100, activation='relu'),\n",
    "    Dense(100, activation='relu'),\n",
    "    Dense(1, activation='sigmoid'),\n",
    "])\n",
    "\n",
    "model_2.compile(optimizer='adam',\n",
    "              loss='binary_crossentropy',\n",
    "              metrics=[keras.metrics.BinaryAccuracy(name='accuracy'),\n",
    "              keras.metrics.Precision(name='precision'),\n",
    "              keras.metrics.Recall(name='recall'),\n",
    "               tf.keras.metrics.AUC(name='auc')])\n",
    "              \n",
    "hist_2 = model_2.fit(X_train, Y_train,\n",
    "          batch_size=32, epochs=25,\n",
    "          validation_data=(X_val, Y_val))"
   ]
  },
  {
   "cell_type": "code",
   "execution_count": 43,
   "metadata": {
    "colab": {
     "base_uri": "https://localhost:8080/",
     "height": 295
    },
    "id": "ltOCaOKcU6oB",
    "outputId": "2039a389-533b-401a-8724-c4eac051adbc"
   },
   "outputs": [
    {
     "data": {
      "image/png": "[encoded data removed]",
      "text/plain": [
       "<Figure size 432x288 with 1 Axes>"
      ]
     },
     "metadata": {
      "needs_background": "light"
     },
     "output_type": "display_data"
    }
   ],
   "source": [
    "plt.plot(hist_2.history['loss'])\n",
    "plt.plot(hist_2.history['val_loss'])\n",
    "plt.title('Model loss')\n",
    "plt.ylabel('Loss')\n",
    "plt.xlabel('Epoch')\n",
    "plt.legend(['Train', 'Val'], loc='upper right')\n",
    "plt.show()"
   ]
  },
  {
   "cell_type": "code",
   "execution_count": 44,
   "metadata": {
    "colab": {
     "base_uri": "https://localhost:8080/",
     "height": 295
    },
    "id": "cjUdOGoa334z",
    "outputId": "dcbbb74b-187f-4e2c-be47-892514059bef"
   },
   "outputs": [
    {
     "data": {
      "image/png": "[encoded data removed]",
      "text/plain": [
       "<Figure size 432x288 with 1 Axes>"
      ]
     },
     "metadata": {
      "needs_background": "light"
     },
     "output_type": "display_data"
    }
   ],
   "source": [
    "plt.plot(hist_2.history['accuracy'])\n",
    "plt.plot(hist_2.history['val_accuracy'])\n",
    "plt.title('Model accuracy')\n",
    "plt.ylabel('Accuracy')\n",
    "plt.xlabel('Epoch')\n",
    "plt.legend(['Train', 'Val'], loc='lower right')\n",
    "plt.show()"
   ]
  },
  {
   "cell_type": "code",
   "execution_count": 45,
   "metadata": {
    "id": "ENF7Q9Um4Ern"
   },
   "outputs": [],
   "source": [
    "model_3 = Sequential([\n",
    "    Dense(150, activation='relu', kernel_regularizer=regularizers.l2(0.01), input_shape=(6,)),\n",
    "    Dropout(0.2),\n",
    "    Dense(150, activation='relu', kernel_regularizer=regularizers.l2(0.01)),\n",
    "    Dropout(0.2),\n",
    "    Dense(150, activation='relu', kernel_regularizer=regularizers.l2(0.01)),\n",
    "    Dropout(0.2),\n",
    "    Dense(150, activation='relu', kernel_regularizer=regularizers.l2(0.01)),\n",
    "    Dropout(0.2),\n",
    "    Dense(1, activation='sigmoid', kernel_regularizer=regularizers.l2(0.01)),\n",
    "])"
   ]
  },
  {
   "cell_type": "code",
   "execution_count": 46,
   "metadata": {
    "colab": {
     "base_uri": "https://localhost:8080/"
    },
    "id": "II5CuWzn4EuO",
    "outputId": "79760acd-527b-4672-f6ab-e531166d7f9e"
   },
   "outputs": [
    {
     "name": "stdout",
     "output_type": "stream",
     "text": [
      "Train on 4825 samples, validate on 1034 samples\n",
      "Epoch 1/22\n",
      "4825/4825 [==============================] - 1s 275us/sample - loss: 12.8276 - acc: 0.5103 - val_loss: 4.2098 - val_acc: 0.5619\n",
      "Epoch 2/22\n",
      "4825/4825 [==============================] - 1s 188us/sample - loss: 5.3372 - acc: 0.4999 - val_loss: 3.9210 - val_acc: 0.6702\n",
      "Epoch 3/22\n",
      "4825/4825 [==============================] - 1s 189us/sample - loss: 4.2003 - acc: 0.5127 - val_loss: 3.7146 - val_acc: 0.5542\n",
      "Epoch 4/22\n",
      "4825/4825 [==============================] - 1s 188us/sample - loss: 3.7452 - acc: 0.5032 - val_loss: 3.5157 - val_acc: 0.5561\n",
      "Epoch 5/22\n",
      "4825/4825 [==============================] - 1s 187us/sample - loss: 3.5094 - acc: 0.4918 - val_loss: 3.3320 - val_acc: 0.5648\n",
      "Epoch 6/22\n",
      "4825/4825 [==============================] - 1s 192us/sample - loss: 3.2807 - acc: 0.5098 - val_loss: 3.1596 - val_acc: 0.5542\n",
      "Epoch 7/22\n",
      "4825/4825 [==============================] - 1s 188us/sample - loss: 3.0951 - acc: 0.5136 - val_loss: 2.9936 - val_acc: 0.5580\n",
      "Epoch 8/22\n",
      "4825/4825 [==============================] - 1s 189us/sample - loss: 2.9330 - acc: 0.5076 - val_loss: 2.8425 - val_acc: 0.4574\n",
      "Epoch 9/22\n",
      "4825/4825 [==============================] - 1s 185us/sample - loss: 2.7719 - acc: 0.5057 - val_loss: 2.6898 - val_acc: 0.6170\n",
      "Epoch 10/22\n",
      "4825/4825 [==============================] - 1s 189us/sample - loss: 2.6230 - acc: 0.5123 - val_loss: 2.5492 - val_acc: 0.4284\n",
      "Epoch 11/22\n",
      "4825/4825 [==============================] - 1s 190us/sample - loss: 2.4873 - acc: 0.5123 - val_loss: 2.4121 - val_acc: 0.5590\n",
      "Epoch 12/22\n",
      "4825/4825 [==============================] - 1s 190us/sample - loss: 2.3524 - acc: 0.5057 - val_loss: 2.2871 - val_acc: 0.4526\n",
      "Epoch 13/22\n",
      "4825/4825 [==============================] - 1s 190us/sample - loss: 2.2267 - acc: 0.5032 - val_loss: 2.1611 - val_acc: 0.5619\n",
      "Epoch 14/22\n",
      "4825/4825 [==============================] - 1s 190us/sample - loss: 2.1107 - acc: 0.5103 - val_loss: 2.0505 - val_acc: 0.6161\n",
      "Epoch 15/22\n",
      "4825/4825 [==============================] - 1s 185us/sample - loss: 1.9982 - acc: 0.5173 - val_loss: 1.9426 - val_acc: 0.5938\n",
      "Epoch 16/22\n",
      "4825/4825 [==============================] - 1s 185us/sample - loss: 1.8923 - acc: 0.5140 - val_loss: 1.8419 - val_acc: 0.6122\n",
      "Epoch 17/22\n",
      "4825/4825 [==============================] - 1s 188us/sample - loss: 1.7943 - acc: 0.5231 - val_loss: 1.7445 - val_acc: 0.5048\n",
      "Epoch 18/22\n",
      "4825/4825 [==============================] - 1s 189us/sample - loss: 1.7008 - acc: 0.5125 - val_loss: 1.6543 - val_acc: 0.4971\n",
      "Epoch 19/22\n",
      "4825/4825 [==============================] - 1s 218us/sample - loss: 1.6137 - acc: 0.5130 - val_loss: 1.5720 - val_acc: 0.5648\n",
      "Epoch 20/22\n",
      "4825/4825 [==============================] - 1s 225us/sample - loss: 1.5344 - acc: 0.5194 - val_loss: 1.4927 - val_acc: 0.4652\n",
      "Epoch 21/22\n",
      "4825/4825 [==============================] - 1s 225us/sample - loss: 1.4566 - acc: 0.5212 - val_loss: 1.4184 - val_acc: 0.5648\n",
      "Epoch 22/22\n",
      "4825/4825 [==============================] - 1s 219us/sample - loss: 1.3858 - acc: 0.5090 - val_loss: 1.3489 - val_acc: 0.5629\n"
     ]
    }
   ],
   "source": [
    "model_3.compile(optimizer='adam',\n",
    "              loss='binary_crossentropy',\n",
    "              metrics=['accuracy'])\n",
    "              \n",
    "hist_3 = model_3.fit(X_train, Y_train,\n",
    "          batch_size=32, epochs=22,\n",
    "          validation_data=(X_val, Y_val))"
   ]
  },
  {
   "cell_type": "code",
   "execution_count": 47,
   "metadata": {
    "colab": {
     "base_uri": "https://localhost:8080/",
     "height": 295
    },
    "id": "scm3b5gZ4Ewo",
    "outputId": "6e5229b5-1333-48d8-f06f-d3d06398186e"
   },
   "outputs": [
    {
     "data": {
      "image/png": "[encoded data removed]",
      "text/plain": [
       "<Figure size 432x288 with 1 Axes>"
      ]
     },
     "metadata": {
      "needs_background": "light"
     },
     "output_type": "display_data"
    }
   ],
   "source": [
    "plt.plot(hist_3.history['loss'])\n",
    "plt.plot(hist_3.history['val_loss'])\n",
    "plt.title('Model loss')\n",
    "plt.ylabel('Loss')\n",
    "plt.xlabel('Epoch')\n",
    "plt.legend(['Train', 'Val'], loc='upper right')\n",
    "#plt.ylim(top=1.2, bottom=0)\n",
    "plt.show()"
   ]
  },
  {
   "cell_type": "code",
   "execution_count": 48,
   "metadata": {
    "colab": {
     "base_uri": "https://localhost:8080/",
     "height": 295
    },
    "id": "QaG46u8l4Eyg",
    "outputId": "6b64b979-518c-433d-b70d-e5481433bbb0"
   },
   "outputs": [
    {
     "data": {
      "image/png": "[encoded data removed]",
      "text/plain": [
       "<Figure size 432x288 with 1 Axes>"
      ]
     },
     "metadata": {
      "needs_background": "light"
     },
     "output_type": "display_data"
    }
   ],
   "source": [
    "plt.plot(hist_3.history['acc'])\n",
    "plt.plot(hist_3.history['val_acc'])\n",
    "plt.title('Model accuracy')\n",
    "plt.ylabel('accuracy')\n",
    "plt.xlabel('Epoch')\n",
    "plt.legend(['Train', 'Val'], loc='lower right')\n",
    "plt.show()"
   ]
  },
  {
   "cell_type": "code",
   "execution_count": 49,
   "metadata": {
    "id": "9uf1rJ9EW4v9"
   },
   "outputs": [
    {
     "data": {
      "text/plain": [
       "array([[0.00000000e+00, 2.95774648e-01, 4.94505495e-01, 3.83333333e-01,\n",
       "        6.00000000e-01, 6.71428571e-01],\n",
       "       [2.67236772e-04, 4.08450704e-01, 4.06593407e-01, 4.33333333e-01,\n",
       "        6.00000000e-01, 6.00000000e-01],\n",
       "       [5.34473544e-04, 2.95774648e-01, 3.07692308e-01, 4.83333333e-01,\n",
       "        5.60000000e-01, 7.42857143e-01],\n",
       "       ...,\n",
       "       [9.47087119e-01, 2.81690141e-01, 3.29670330e-01, 5.66666667e-01,\n",
       "        7.40000000e-01, 3.28571429e-01],\n",
       "       [7.34901122e-02, 5.49295775e-01, 2.85714286e-01, 3.83333333e-01,\n",
       "        9.20000000e-01, 3.85714286e-01],\n",
       "       [2.35702833e-01, 5.63380282e-01, 3.84615385e-01, 6.33333333e-01,\n",
       "        2.60000000e-01, 5.00000000e-01]])"
      ]
     },
     "execution_count": 49,
     "metadata": {},
     "output_type": "execute_result"
    }
   ],
   "source": [
    "min_max_scaler = preprocessing.MinMaxScaler()\n",
    "X_scale = min_max_scaler.fit_transform(X)\n",
    "X_scale"
   ]
  },
  {
   "cell_type": "code",
   "execution_count": 50,
   "metadata": {},
   "outputs": [],
   "source": [
    "X_train, X_val_and_test, Y_train, Y_val_and_test = train_test_split(X_scale, y, test_size=0.3)"
   ]
  },
  {
   "cell_type": "code",
   "execution_count": 51,
   "metadata": {},
   "outputs": [],
   "source": [
    "X_val, X_test, Y_val, Y_test = train_test_split(X_val_and_test, Y_val_and_test, test_size=0.5)"
   ]
  },
  {
   "cell_type": "code",
   "execution_count": 52,
   "metadata": {},
   "outputs": [],
   "source": [
    "model = Sequential([\n",
    "    Dense(32, activation='relu', input_shape=(6,)),\n",
    "    Dense(32, activation='relu'),\n",
    "    Dense(1, activation='sigmoid'),\n",
    "])"
   ]
  },
  {
   "cell_type": "code",
   "execution_count": 53,
   "metadata": {},
   "outputs": [],
   "source": [
    "model.compile(optimizer='sgd',\n",
    "              loss='binary_crossentropy',\n",
    "              metrics=[keras.metrics.BinaryAccuracy(name='accuracy'),\n",
    "              keras.metrics.Precision(name='precision'),\n",
    "              keras.metrics.Recall(name='recall'),\n",
    "               tf.keras.metrics.AUC(name='auc')])"
   ]
  },
  {
   "cell_type": "code",
   "execution_count": 54,
   "metadata": {},
   "outputs": [
    {
     "name": "stdout",
     "output_type": "stream",
     "text": [
      "Train on 4825 samples, validate on 1034 samples\n",
      "Epoch 1/20\n",
      "4825/4825 [==============================] - 1s 236us/sample - loss: 0.6990 - accuracy: 0.5134 - precision: 0.6342 - recall: 0.0674 - auc: 0.5011 - val_loss: 0.6956 - val_accuracy: 0.5368 - val_precision: 0.6268 - val_recall: 0.1728 - val_auc: 0.4842\n",
      "Epoch 2/20\n",
      "4825/4825 [==============================] - 1s 182us/sample - loss: 0.6930 - accuracy: 0.5248 - precision: 0.5413 - recall: 0.3364 - auc: 0.5199 - val_loss: 0.6935 - val_accuracy: 0.5010 - val_precision: 0.4988 - val_recall: 0.3942 - val_auc: 0.5050\n",
      "Epoch 3/20\n",
      "4825/4825 [==============================] - 1s 170us/sample - loss: 0.6920 - accuracy: 0.5262 - precision: 0.5261 - recall: 0.5457 - auc: 0.5361 - val_loss: 0.6929 - val_accuracy: 0.5106 - val_precision: 0.5086 - val_recall: 0.5146 - val_auc: 0.5084\n",
      "Epoch 4/20\n",
      "4825/4825 [==============================] - 1s 169us/sample - loss: 0.6916 - accuracy: 0.5343 - precision: 0.5300 - recall: 0.6223 - auc: 0.5447 - val_loss: 0.6924 - val_accuracy: 0.5377 - val_precision: 0.5320 - val_recall: 0.5981 - val_auc: 0.5270\n",
      "Epoch 5/20\n",
      "4825/4825 [==============================] - 1s 170us/sample - loss: 0.6912 - accuracy: 0.5449 - precision: 0.5420 - recall: 0.5896 - auc: 0.5568 - val_loss: 0.6920 - val_accuracy: 0.5464 - val_precision: 0.5331 - val_recall: 0.7184 - val_auc: 0.5390\n",
      "Epoch 6/20\n",
      "4825/4825 [==============================] - 1s 190us/sample - loss: 0.6909 - accuracy: 0.5534 - precision: 0.5416 - recall: 0.7054 - auc: 0.5667 - val_loss: 0.6917 - val_accuracy: 0.5571 - val_precision: 0.5435 - val_recall: 0.6913 - val_auc: 0.5515\n",
      "Epoch 7/20\n",
      "4825/4825 [==============================] - 1s 170us/sample - loss: 0.6905 - accuracy: 0.5604 - precision: 0.5547 - recall: 0.6210 - auc: 0.5717 - val_loss: 0.6913 - val_accuracy: 0.5484 - val_precision: 0.5333 - val_recall: 0.7456 - val_auc: 0.5573\n",
      "Epoch 8/20\n",
      "4825/4825 [==============================] - 1s 174us/sample - loss: 0.6901 - accuracy: 0.5602 - precision: 0.5461 - recall: 0.7236 - auc: 0.5826 - val_loss: 0.6909 - val_accuracy: 0.5725 - val_precision: 0.5577 - val_recall: 0.6854 - val_auc: 0.5640\n",
      "Epoch 9/20\n",
      "4825/4825 [==============================] - 1s 168us/sample - loss: 0.6897 - accuracy: 0.5747 - precision: 0.5586 - recall: 0.7199 - auc: 0.5916 - val_loss: 0.6905 - val_accuracy: 0.5822 - val_precision: 0.5681 - val_recall: 0.6718 - val_auc: 0.5678\n",
      "Epoch 10/20\n",
      "4825/4825 [==============================] - 1s 169us/sample - loss: 0.6892 - accuracy: 0.5855 - precision: 0.5765 - recall: 0.6504 - auc: 0.5967 - val_loss: 0.6900 - val_accuracy: 0.5783 - val_precision: 0.5585 - val_recall: 0.7320 - val_auc: 0.5831\n",
      "Epoch 11/20\n",
      "4825/4825 [==============================] - 1s 167us/sample - loss: 0.6888 - accuracy: 0.5766 - precision: 0.5573 - recall: 0.7526 - auc: 0.6051 - val_loss: 0.6897 - val_accuracy: 0.5783 - val_precision: 0.5792 - val_recall: 0.5612 - val_auc: 0.5853\n",
      "Epoch 12/20\n",
      "4825/4825 [==============================] - 1s 169us/sample - loss: 0.6883 - accuracy: 0.6000 - precision: 0.6042 - recall: 0.5842 - auc: 0.6086 - val_loss: 0.6891 - val_accuracy: 0.5745 - val_precision: 0.5529 - val_recall: 0.7612 - val_auc: 0.6006\n",
      "Epoch 13/20\n",
      "4825/4825 [==============================] - 1s 170us/sample - loss: 0.6880 - accuracy: 0.5946 - precision: 0.5769 - recall: 0.7153 - auc: 0.6109 - val_loss: 0.6886 - val_accuracy: 0.6044 - val_precision: 0.5844 - val_recall: 0.7126 - val_auc: 0.6016\n",
      "Epoch 14/20\n",
      "4825/4825 [==============================] - 1s 168us/sample - loss: 0.6875 - accuracy: 0.5961 - precision: 0.5816 - recall: 0.6901 - auc: 0.6157 - val_loss: 0.6883 - val_accuracy: 0.6093 - val_precision: 0.5900 - val_recall: 0.7068 - val_auc: 0.6030\n",
      "Epoch 15/20\n",
      "4825/4825 [==============================] - 1s 166us/sample - loss: 0.6871 - accuracy: 0.5994 - precision: 0.5859 - recall: 0.6831 - auc: 0.6201 - val_loss: 0.6879 - val_accuracy: 0.5977 - val_precision: 0.5821 - val_recall: 0.6816 - val_auc: 0.6074\n",
      "Epoch 16/20\n",
      "4825/4825 [==============================] - 1s 169us/sample - loss: 0.6868 - accuracy: 0.6056 - precision: 0.5938 - recall: 0.6731 - auc: 0.6220 - val_loss: 0.6875 - val_accuracy: 0.6035 - val_precision: 0.5824 - val_recall: 0.7204 - val_auc: 0.6150\n",
      "Epoch 17/20\n",
      "4825/4825 [==============================] - 1s 169us/sample - loss: 0.6864 - accuracy: 0.6023 - precision: 0.5887 - recall: 0.6839 - auc: 0.6283 - val_loss: 0.6871 - val_accuracy: 0.5938 - val_precision: 0.5777 - val_recall: 0.6854 - val_auc: 0.6162\n",
      "Epoch 18/20\n",
      "4825/4825 [==============================] - 1s 167us/sample - loss: 0.6860 - accuracy: 0.6017 - precision: 0.5898 - recall: 0.6723 - auc: 0.6294 - val_loss: 0.6868 - val_accuracy: 0.5919 - val_precision: 0.5771 - val_recall: 0.6757 - val_auc: 0.6212\n",
      "Epoch 19/20\n",
      "4825/4825 [==============================] - 1s 169us/sample - loss: 0.6856 - accuracy: 0.5965 - precision: 0.5805 - recall: 0.7013 - auc: 0.6320 - val_loss: 0.6865 - val_accuracy: 0.5948 - val_precision: 0.5892 - val_recall: 0.6155 - val_auc: 0.6168\n",
      "Epoch 20/20\n",
      "4825/4825 [==============================] - 1s 171us/sample - loss: 0.6853 - accuracy: 0.6037 - precision: 0.5926 - recall: 0.6686 - auc: 0.6328 - val_loss: 0.6861 - val_accuracy: 0.5870 - val_precision: 0.5786 - val_recall: 0.6291 - val_auc: 0.6219\n"
     ]
    }
   ],
   "source": [
    "hist = model.fit(X_train, Y_train,\n",
    "          batch_size=32, epochs=20,\n",
    "          validation_data=(X_val, Y_val),\n",
    "          )"
   ]
  },
  {
   "cell_type": "code",
   "execution_count": 55,
   "metadata": {},
   "outputs": [
    {
     "data": {
      "image/png": "[encoded data removed]",
      "text/plain": [
       "<Figure size 432x288 with 1 Axes>"
      ]
     },
     "metadata": {
      "needs_background": "light"
     },
     "output_type": "display_data"
    }
   ],
   "source": [
    "plt.plot(hist.history['loss'])\n",
    "plt.plot(hist.history['val_loss'])\n",
    "plt.title('Model loss')\n",
    "plt.ylabel('Loss')\n",
    "plt.xlabel('Epoch')\n",
    "plt.legend(['Train', 'Val'], loc='upper right')\n",
    "plt.show()"
   ]
  },
  {
   "cell_type": "code",
   "execution_count": 56,
   "metadata": {},
   "outputs": [
    {
     "data": {
      "image/png": "[encoded data removed]",
      "text/plain": [
       "<Figure size 432x288 with 1 Axes>"
      ]
     },
     "metadata": {
      "needs_background": "light"
     },
     "output_type": "display_data"
    }
   ],
   "source": [
    "plt.plot(hist.history['accuracy'])\n",
    "plt.plot(hist.history['val_accuracy'])\n",
    "plt.title('Model accuracy')\n",
    "plt.ylabel('Accuracy')\n",
    "plt.xlabel('Epoch')\n",
    "plt.legend(['Train', 'Val'], loc='lower right')\n",
    "plt.show()"
   ]
  },
  {
   "cell_type": "code",
   "execution_count": 57,
   "metadata": {},
   "outputs": [],
   "source": [
    "model_2 = Sequential([\n",
    "    Dense(150, activation='relu', kernel_regularizer=regularizers.l2(0.01), input_shape=(6,)),\n",
    "    Dropout(0.2),\n",
    "    Dense(150, activation='relu', kernel_regularizer=regularizers.l2(0.01)),\n",
    "    Dropout(0.2),\n",
    "    Dense(150, activation='relu', kernel_regularizer=regularizers.l2(0.01)),\n",
    "    Dropout(0.2),\n",
    "    Dense(150, activation='relu', kernel_regularizer=regularizers.l2(0.01)),\n",
    "    Dropout(0.2),\n",
    "    Dense(1, activation='sigmoid', kernel_regularizer=regularizers.l2(0.01)),\n",
    "])"
   ]
  },
  {
   "cell_type": "code",
   "execution_count": 58,
   "metadata": {},
   "outputs": [
    {
     "name": "stdout",
     "output_type": "stream",
     "text": [
      "Train on 4825 samples, validate on 1034 samples\n",
      "Epoch 1/22\n",
      "4825/4825 [==============================] - 1s 289us/sample - loss: 1.9865 - acc: 0.4976 - val_loss: 0.7796 - val_acc: 0.5019\n",
      "Epoch 2/22\n",
      "4825/4825 [==============================] - 1s 190us/sample - loss: 0.7111 - acc: 0.4945 - val_loss: 0.6938 - val_acc: 0.4981\n",
      "Epoch 3/22\n",
      "4825/4825 [==============================] - 1s 192us/sample - loss: 0.6934 - acc: 0.4966 - val_loss: 0.6932 - val_acc: 0.4981\n",
      "Epoch 4/22\n",
      "4825/4825 [==============================] - 1s 193us/sample - loss: 0.6932 - acc: 0.5009 - val_loss: 0.6932 - val_acc: 0.4981\n",
      "Epoch 5/22\n",
      "4825/4825 [==============================] - 1s 190us/sample - loss: 0.6932 - acc: 0.4893 - val_loss: 0.6932 - val_acc: 0.4981\n",
      "Epoch 6/22\n",
      "4825/4825 [==============================] - 1s 194us/sample - loss: 0.6932 - acc: 0.4931 - val_loss: 0.6932 - val_acc: 0.4981\n",
      "Epoch 7/22\n",
      "4825/4825 [==============================] - 1s 192us/sample - loss: 0.6932 - acc: 0.5009 - val_loss: 0.6932 - val_acc: 0.4981\n",
      "Epoch 8/22\n",
      "4825/4825 [==============================] - 1s 196us/sample - loss: 0.6932 - acc: 0.5009 - val_loss: 0.6932 - val_acc: 0.4981\n",
      "Epoch 9/22\n",
      "4825/4825 [==============================] - 1s 192us/sample - loss: 0.6932 - acc: 0.4947 - val_loss: 0.6932 - val_acc: 0.4981\n",
      "Epoch 10/22\n",
      "4825/4825 [==============================] - 1s 192us/sample - loss: 0.6932 - acc: 0.5009 - val_loss: 0.6932 - val_acc: 0.4981\n",
      "Epoch 11/22\n",
      "4825/4825 [==============================] - 1s 190us/sample - loss: 0.6932 - acc: 0.4978 - val_loss: 0.6932 - val_acc: 0.4981\n",
      "Epoch 12/22\n",
      "4825/4825 [==============================] - 1s 191us/sample - loss: 0.6932 - acc: 0.4926 - val_loss: 0.6932 - val_acc: 0.4981\n",
      "Epoch 13/22\n",
      "4825/4825 [==============================] - 1s 191us/sample - loss: 0.6932 - acc: 0.4856 - val_loss: 0.6932 - val_acc: 0.4981\n",
      "Epoch 14/22\n",
      "4825/4825 [==============================] - 1s 197us/sample - loss: 0.6932 - acc: 0.4960 - val_loss: 0.6932 - val_acc: 0.4981\n",
      "Epoch 15/22\n",
      "4825/4825 [==============================] - 1s 206us/sample - loss: 0.6932 - acc: 0.4955 - val_loss: 0.6932 - val_acc: 0.4981\n",
      "Epoch 16/22\n",
      "4825/4825 [==============================] - 1s 196us/sample - loss: 0.6932 - acc: 0.4970 - val_loss: 0.6932 - val_acc: 0.4981\n",
      "Epoch 17/22\n",
      "4825/4825 [==============================] - 1s 197us/sample - loss: 0.6932 - acc: 0.5009 - val_loss: 0.6932 - val_acc: 0.4981\n",
      "Epoch 18/22\n",
      "4825/4825 [==============================] - 1s 193us/sample - loss: 0.6932 - acc: 0.4955 - val_loss: 0.6932 - val_acc: 0.4981\n",
      "Epoch 19/22\n",
      "4825/4825 [==============================] - 1s 196us/sample - loss: 0.6932 - acc: 0.5009 - val_loss: 0.6932 - val_acc: 0.4981\n",
      "Epoch 20/22\n",
      "4825/4825 [==============================] - 1s 192us/sample - loss: 0.6932 - acc: 0.4856 - val_loss: 0.6932 - val_acc: 0.4981\n",
      "Epoch 21/22\n",
      "4825/4825 [==============================] - 1s 194us/sample - loss: 0.6932 - acc: 0.5009 - val_loss: 0.6932 - val_acc: 0.4981\n",
      "Epoch 22/22\n",
      "4825/4825 [==============================] - 1s 191us/sample - loss: 0.6932 - acc: 0.5009 - val_loss: 0.6932 - val_acc: 0.4981\n"
     ]
    }
   ],
   "source": [
    "model_2.compile(optimizer='adam',\n",
    "              loss='binary_crossentropy',\n",
    "              metrics=['accuracy'])\n",
    "              \n",
    "hist_2 = model_2.fit(X_train, Y_train,\n",
    "          batch_size=32, epochs=22,\n",
    "          validation_data=(X_val, Y_val))"
   ]
  },
  {
   "cell_type": "code",
   "execution_count": 59,
   "metadata": {},
   "outputs": [
    {
     "data": {
      "image/png": "[encoded data removed]",
      "text/plain": [
       "<Figure size 432x288 with 1 Axes>"
      ]
     },
     "metadata": {
      "needs_background": "light"
     },
     "output_type": "display_data"
    }
   ],
   "source": [
    "plt.plot(hist_2.history['loss'])\n",
    "plt.plot(hist_2.history['val_loss'])\n",
    "plt.title('Model loss')\n",
    "plt.ylabel('Loss')\n",
    "plt.xlabel('Epoch')\n",
    "plt.legend(['Train', 'Val'], loc='upper right')\n",
    "plt.show()"
   ]
  },
  {
   "cell_type": "code",
   "execution_count": 60,
   "metadata": {},
   "outputs": [
    {
     "data": {
      "image/png": "[encoded data removed]",
      "text/plain": [
       "<Figure size 432x288 with 1 Axes>"
      ]
     },
     "metadata": {
      "needs_background": "light"
     },
     "output_type": "display_data"
    }
   ],
   "source": [
    "plt.plot(hist_2.history['acc'])\n",
    "plt.plot(hist_2.history['val_acc'])\n",
    "plt.title('Model accuracy')\n",
    "plt.ylabel('accuracy')\n",
    "plt.xlabel('Epoch')\n",
    "plt.legend(['Train', 'Val'], loc='lower right')\n",
    "plt.show()"
   ]
  },
  {
   "cell_type": "code",
   "execution_count": 61,
   "metadata": {},
   "outputs": [
    {
     "name": "stdout",
     "output_type": "stream",
     "text": [
      "Train on 4825 samples, validate on 1034 samples\n",
      "Epoch 1/25\n",
      "4825/4825 [==============================] - 1s 296us/sample - loss: 0.6820 - accuracy: 0.5621 - precision: 0.5581 - recall: 0.6036 - auc: 0.5927 - val_loss: 0.6545 - val_accuracy: 0.6112 - val_precision: 0.6037 - val_recall: 0.6388 - val_auc: 0.6794\n",
      "Epoch 2/25\n",
      "4825/4825 [==============================] - 1s 198us/sample - loss: 0.6140 - accuracy: 0.6543 - precision: 0.6466 - recall: 0.6835 - auc: 0.7193 - val_loss: 0.5729 - val_accuracy: 0.7050 - val_precision: 0.7549 - val_recall: 0.6039 - val_auc: 0.7867\n",
      "Epoch 3/25\n",
      "4825/4825 [==============================] - 1s 202us/sample - loss: 0.5268 - accuracy: 0.7378 - precision: 0.7207 - recall: 0.7782 - auc: 0.8105 - val_loss: 0.5191 - val_accuracy: 0.7311 - val_precision: 0.7274 - val_recall: 0.7359 - val_auc: 0.8161\n",
      "Epoch 4/25\n",
      "4825/4825 [==============================] - 1s 198us/sample - loss: 0.4867 - accuracy: 0.7650 - precision: 0.7440 - recall: 0.8093 - auc: 0.8409 - val_loss: 0.4758 - val_accuracy: 0.7631 - val_precision: 0.7258 - val_recall: 0.8427 - val_auc: 0.8519\n",
      "Epoch 5/25\n",
      "4825/4825 [==============================] - 1s 199us/sample - loss: 0.4699 - accuracy: 0.7741 - precision: 0.7563 - recall: 0.8101 - auc: 0.8531 - val_loss: 0.4642 - val_accuracy: 0.7872 - val_precision: 0.7330 - val_recall: 0.9010 - val_auc: 0.8683\n",
      "Epoch 6/25\n",
      "4825/4825 [==============================] - 1s 199us/sample - loss: 0.4587 - accuracy: 0.7799 - precision: 0.7648 - recall: 0.8097 - auc: 0.8619 - val_loss: 0.4507 - val_accuracy: 0.7921 - val_precision: 0.7351 - val_recall: 0.9107 - val_auc: 0.8781\n",
      "Epoch 7/25\n",
      "4825/4825 [==============================] - 1s 204us/sample - loss: 0.4315 - accuracy: 0.8017 - precision: 0.7821 - recall: 0.8374 - auc: 0.8776 - val_loss: 0.4691 - val_accuracy: 0.7766 - val_precision: 0.7268 - val_recall: 0.8835 - val_auc: 0.8749\n",
      "Epoch 8/25\n",
      "4825/4825 [==============================] - 1s 200us/sample - loss: 0.4288 - accuracy: 0.8068 - precision: 0.7846 - recall: 0.8469 - auc: 0.8790 - val_loss: 0.4246 - val_accuracy: 0.8124 - val_precision: 0.7627 - val_recall: 0.9049 - val_auc: 0.8871\n",
      "Epoch 9/25\n",
      "4825/4825 [==============================] - 1s 200us/sample - loss: 0.4085 - accuracy: 0.8189 - precision: 0.8010 - recall: 0.8494 - auc: 0.8916 - val_loss: 0.4003 - val_accuracy: 0.8346 - val_precision: 0.8245 - val_recall: 0.8485 - val_auc: 0.8954\n",
      "Epoch 10/25\n",
      "4825/4825 [==============================] - 1s 202us/sample - loss: 0.3835 - accuracy: 0.8313 - precision: 0.8103 - recall: 0.8659 - auc: 0.9043 - val_loss: 0.4091 - val_accuracy: 0.8172 - val_precision: 0.7996 - val_recall: 0.8447 - val_auc: 0.8884\n",
      "Epoch 11/25\n",
      "4825/4825 [==============================] - 1s 205us/sample - loss: 0.3762 - accuracy: 0.8394 - precision: 0.8190 - recall: 0.8722 - auc: 0.9082 - val_loss: 0.4529 - val_accuracy: 0.8027 - val_precision: 0.7360 - val_recall: 0.9417 - val_auc: 0.8862\n",
      "Epoch 12/25\n",
      "4825/4825 [==============================] - 1s 198us/sample - loss: 0.3692 - accuracy: 0.8350 - precision: 0.8135 - recall: 0.8701 - auc: 0.9111 - val_loss: 0.3812 - val_accuracy: 0.8395 - val_precision: 0.7993 - val_recall: 0.9049 - val_auc: 0.9025\n",
      "Epoch 13/25\n",
      "4825/4825 [==============================] - 1s 201us/sample - loss: 0.3718 - accuracy: 0.8342 - precision: 0.8135 - recall: 0.8680 - auc: 0.9096 - val_loss: 0.3818 - val_accuracy: 0.8327 - val_precision: 0.7831 - val_recall: 0.9184 - val_auc: 0.9141\n",
      "Epoch 14/25\n",
      "4825/4825 [==============================] - 1s 199us/sample - loss: 0.3504 - accuracy: 0.8491 - precision: 0.8272 - recall: 0.8833 - auc: 0.9192 - val_loss: 0.3651 - val_accuracy: 0.8540 - val_precision: 0.8054 - val_recall: 0.9320 - val_auc: 0.9136\n",
      "Epoch 15/25\n",
      "4825/4825 [==============================] - 1s 200us/sample - loss: 0.3327 - accuracy: 0.8603 - precision: 0.8382 - recall: 0.8937 - auc: 0.9262 - val_loss: 0.3403 - val_accuracy: 0.8704 - val_precision: 0.8521 - val_recall: 0.8951 - val_auc: 0.9210\n",
      "Epoch 16/25\n",
      "4825/4825 [==============================] - 1s 204us/sample - loss: 0.3257 - accuracy: 0.8694 - precision: 0.8443 - recall: 0.9065 - auc: 0.9294 - val_loss: 0.3893 - val_accuracy: 0.8221 - val_precision: 0.8590 - val_recall: 0.7689 - val_auc: 0.9109\n",
      "Epoch 17/25\n",
      "4825/4825 [==============================] - 1s 200us/sample - loss: 0.3122 - accuracy: 0.8694 - precision: 0.8443 - recall: 0.9065 - auc: 0.9341 - val_loss: 0.3295 - val_accuracy: 0.8656 - val_precision: 0.8534 - val_recall: 0.8816 - val_auc: 0.9233\n",
      "Epoch 18/25\n",
      "4825/4825 [==============================] - 1s 201us/sample - loss: 0.3077 - accuracy: 0.8769 - precision: 0.8496 - recall: 0.9164 - auc: 0.9348 - val_loss: 0.3239 - val_accuracy: 0.8704 - val_precision: 0.8743 - val_recall: 0.8641 - val_auc: 0.9320\n",
      "Epoch 19/25\n",
      "4825/4825 [==============================] - 1s 199us/sample - loss: 0.2857 - accuracy: 0.8837 - precision: 0.8586 - recall: 0.9193 - auc: 0.9436 - val_loss: 0.3948 - val_accuracy: 0.8443 - val_precision: 0.7980 - val_recall: 0.9204 - val_auc: 0.9006\n",
      "Epoch 20/25\n",
      "4825/4825 [==============================] - 1s 201us/sample - loss: 0.2911 - accuracy: 0.8798 - precision: 0.8515 - recall: 0.9206 - auc: 0.9415 - val_loss: 0.3242 - val_accuracy: 0.8578 - val_precision: 0.8333 - val_recall: 0.8932 - val_auc: 0.9268\n",
      "Epoch 21/25\n",
      "4825/4825 [==============================] - 1s 237us/sample - loss: 0.2677 - accuracy: 0.8970 - precision: 0.8730 - recall: 0.9297 - auc: 0.9492 - val_loss: 0.3098 - val_accuracy: 0.8733 - val_precision: 0.8368 - val_recall: 0.9262 - val_auc: 0.9304\n",
      "Epoch 22/25\n",
      "4825/4825 [==============================] - 1s 202us/sample - loss: 0.2734 - accuracy: 0.8935 - precision: 0.8664 - recall: 0.9309 - auc: 0.9463 - val_loss: 0.2988 - val_accuracy: 0.8868 - val_precision: 0.8713 - val_recall: 0.9068 - val_auc: 0.9341\n",
      "Epoch 23/25\n",
      "4825/4825 [==============================] - 1s 203us/sample - loss: 0.2525 - accuracy: 0.9001 - precision: 0.8763 - recall: 0.9321 - auc: 0.9540 - val_loss: 0.2935 - val_accuracy: 0.8830 - val_precision: 0.8468 - val_recall: 0.9340 - val_auc: 0.9374\n",
      "Epoch 24/25\n",
      "4825/4825 [==============================] - 1s 202us/sample - loss: 0.2507 - accuracy: 0.9009 - precision: 0.8739 - recall: 0.9375 - auc: 0.9543 - val_loss: 0.3176 - val_accuracy: 0.8743 - val_precision: 0.8873 - val_recall: 0.8563 - val_auc: 0.9359\n",
      "Epoch 25/25\n",
      "4825/4825 [==============================] - 1s 200us/sample - loss: 0.2388 - accuracy: 0.9123 - precision: 0.8820 - recall: 0.9524 - auc: 0.9565 - val_loss: 0.2723 - val_accuracy: 0.8965 - val_precision: 0.8579 - val_recall: 0.9495 - val_auc: 0.9443\n"
     ]
    }
   ],
   "source": [
    "model_3 = Sequential([\n",
    "    Dense(100, activation='relu', input_shape=(6,)),\n",
    "    Dense(100, activation='relu'),\n",
    "    Dense(100, activation='relu'),\n",
    "    Dense(100, activation='relu'),\n",
    "    Dense(1, activation='sigmoid'),\n",
    "])\n",
    "\n",
    "model_3.compile(optimizer='adam',\n",
    "              loss='binary_crossentropy',\n",
    "              metrics=[keras.metrics.BinaryAccuracy(name='accuracy'),\n",
    "              keras.metrics.Precision(name='precision'),\n",
    "              keras.metrics.Recall(name='recall'),\n",
    "               tf.keras.metrics.AUC(name='auc')])\n",
    "              \n",
    "hist_3 = model_3.fit(X_train, Y_train,\n",
    "          batch_size=32, epochs=25,\n",
    "          validation_data=(X_val, Y_val))"
   ]
  },
  {
   "cell_type": "code",
   "execution_count": 62,
   "metadata": {},
   "outputs": [
    {
     "data": {
      "image/png": "[encoded data removed]",
      "text/plain": [
       "<Figure size 432x288 with 1 Axes>"
      ]
     },
     "metadata": {
      "needs_background": "light"
     },
     "output_type": "display_data"
    }
   ],
   "source": [
    "plt.plot(hist_3.history['loss'])\n",
    "plt.plot(hist_3.history['val_loss'])\n",
    "plt.title('Model loss')\n",
    "plt.ylabel('Loss')\n",
    "plt.xlabel('Epoch')\n",
    "plt.legend(['Train', 'Val'], loc='upper right')\n",
    "plt.show()"
   ]
  },
  {
   "cell_type": "code",
   "execution_count": 63,
   "metadata": {},
   "outputs": [
    {
     "data": {
      "image/png": "[encoded data removed]",
      "text/plain": [
       "<Figure size 432x288 with 1 Axes>"
      ]
     },
     "metadata": {
      "needs_background": "light"
     },
     "output_type": "display_data"
    }
   ],
   "source": [
    "plt.plot(hist_3.history['accuracy'])\n",
    "plt.plot(hist_3.history['val_accuracy'])\n",
    "plt.title('Model accuracy')\n",
    "plt.ylabel('Accuracy')\n",
    "plt.xlabel('Epoch')\n",
    "plt.legend(['Train', 'Val'], loc='lower right')\n",
    "plt.show()"
   ]
  },
  {
   "cell_type": "code",
   "execution_count": null,
   "metadata": {},
   "outputs": [],
   "source": []
  }
 ],
 "metadata": {
  "accelerator": "GPU",
  "colab": {
   "collapsed_sections": [],
   "name": "deeplearning_final.ipynb",
   "provenance": []
  },
  "kernelspec": {
   "display_name": "Python 3",
   "language": "python",
   "name": "python3"
  },
  "language_info": {
   "codemirror_mode": {
    "name": "ipython",
    "version": 3
   },
   "file_extension": ".py",
   "mimetype": "text/x-python",
   "name": "python",
   "nbconvert_exporter": "python",
   "pygments_lexer": "ipython3",
   "version": "3.7.4"
  }
 },
 "nbformat": 4,
 "nbformat_minor": 1
}
